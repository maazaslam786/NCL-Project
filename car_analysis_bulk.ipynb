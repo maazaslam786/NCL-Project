{
 "cells": [
  {
   "cell_type": "markdown",
   "metadata": {},
   "source": [
    "Extracting the Trips"
   ]
  },
  {
   "cell_type": "code",
   "execution_count": 2,
   "metadata": {},
   "outputs": [],
   "source": [
    "import pandas as pd\n",
    "import matplotlib.pyplot as plt\n",
    "import numpy as np\n",
    "import seaborn as sns\n",
    "\n",
    "df = pd.read_csv('cleaned_bulk_data.csv',index_col=0)\n",
    "df['time_stamp'] = pd.to_datetime(df['time_stamp'])\n",
    "df = df.sort_values(by='time_stamp', ascending=True)\n",
    "\n",
    "trips = []\n",
    "trip = []\n",
    "in_trip = False\n",
    "for idx, row in df.iterrows():  #trip starts when engine_rpm increases from zero (engine starts) and ends when engine_rpm again reaches zero (engine turns off)\n",
    "    if row['engine_rpm'] > 0:\n",
    "        if not in_trip:         #checking if the car was already in trip or not\n",
    "            in_trip = True      #starting a new trip as car was not in a trip\n",
    "            trip = []\n",
    "        trip.append(row)\n",
    "    elif row['engine_rpm'] == 0:\n",
    "        if in_trip:             #since there are many zero value, so checking if the car was already in a trip if yes then end the trip\n",
    "            in_trip = False\n",
    "            if trip:\n",
    "                trips.append(pd.DataFrame(trip)) #adding the trip to the trips list\n"
   ]
  },
  {
   "cell_type": "markdown",
   "metadata": {},
   "source": [
    "Preparing the Data"
   ]
  },
  {
   "cell_type": "code",
   "execution_count": 3,
   "metadata": {},
   "outputs": [],
   "source": [
    "for i in trips:\n",
    "    duration = (i.iloc[-1]['time_stamp'] - i.iloc[0]['time_stamp']).total_seconds()\n",
    "    i['duration (mins)'] = duration / 60\n",
    "\n",
    "    # i['time_diff'] = i['time_stamp'].diff().dt.total_seconds()\n",
    "    # i['time_till_speed_continued'] = i['time_diff'].shift(-1)\n",
    "\n",
    "    i['time_till_speed_continued'] = 2\n",
    "    i['final_speed'] = i['vehicle_speed'].shift(-1)\n",
    "    i['acceleration'] = ((i['final_speed']- i['vehicle_speed'])*1000/3600) / i['time_till_speed_continued']\n",
    "    i['distance'] = round(((i['vehicle_speed']*1000/3600)*i['time_till_speed_continued']) + (0.5*i['acceleration']*(i['time_till_speed_continued']**2)),2)\n",
    "    i['distance'] = i['distance']/1000\n",
    "\n",
    "    temp = i.iloc[-1]['vehicle_speed']*1000/3600\n",
    "    i.at[i.index[-1],'acceleration'] = (0-temp)/2\n",
    "    i.at[i.index[-1],'distance'] = round(temp*2 + 0.5*((0-temp)/2)*4) /1000\n",
    "\n",
    "\n",
    "    #older approach calculating fuel consumption of the entire trip\n",
    "    # maf = (i['mass_air_flow_rate'] *i['time_till_speed_continued']).sum() / i['time_till_speed_continued'].sum() /1000\n",
    "    # afr = i['o_s1_b1_fuel_air_equivalence_ratio'].mean()\n",
    "\n",
    "    # fuel_mass_rate = maf / afr\n",
    "    # fuel_consumption_kg = fuel_mass_rate * duration\n",
    "\n",
    "    # i['fuel_consumption (liters)'] = fuel_consumption_kg / 0.75\n",
    "\n",
    "    #newer approach calculating the fuel consumed for the interval of 2 seconds (as each reading is separated by 2 seconds)\n",
    "    i['fuel_mass_flow_rate'] = (i['mass_air_flow_rate']/1000) / i['o_s1_b1_fuel_air_equivalence_ratio']\n",
    "    i['fuel_consumption (liters)'] = (i['fuel_mass_flow_rate'] * 2) / 0.75 # fuel mass flow rate * 2 gives fuel mass flow rate for\n",
    "     #the 2 seconds interval in kg converting it to liters by dividing with the density of fuel = 0.75 kg/L\n",
    "\n",
    "lst = []\n",
    "for i in range(len(trips)):\n",
    "    if trips[i]['vehicle_speed'].mean() != 0:\n",
    "        lst.append(trips[i])\n",
    "\n",
    "df = pd.DataFrame()\n",
    "for i in range(len(lst)):\n",
    "    if lst[i]['vehicle_speed'].mean() != 0:\n",
    "        lst[i]['trip'] = i+1\n",
    "        df = pd.concat([df,lst[i]])\n",
    "\n",
    "\n",
    "df = df.set_index('trip')\n"
   ]
  },
  {
   "cell_type": "markdown",
   "metadata": {},
   "source": [
    "Extracting Summary Data"
   ]
  },
  {
   "cell_type": "code",
   "execution_count": 8,
   "metadata": {},
   "outputs": [
    {
     "name": "stdout",
     "output_type": "stream",
     "text": [
      "    timeframe  average_speed  max_speed  total_drive_time  distance   fuel  \\\n",
      "0           5          27.82       77.0            133.22     49.75   4.85   \n",
      "1           6          25.02       67.0             14.33      4.90   0.56   \n",
      "2           7          25.21       76.0             42.13     20.07   2.21   \n",
      "3           8          24.37       72.0            339.78    103.69   9.62   \n",
      "4           9          23.08       93.0            369.35    123.69  10.51   \n",
      "5          10          24.76      100.0            611.52    218.14  18.72   \n",
      "6          11          23.64       93.0            311.55    107.92   9.80   \n",
      "7          12          32.99      102.0            585.33    280.38  21.06   \n",
      "8          13          27.49       89.0            297.63    116.33   9.28   \n",
      "9          14          24.72       89.0            511.33    306.70  28.19   \n",
      "10         15          25.09       90.0            329.27    111.39  10.38   \n",
      "11         16          26.87       85.0            258.77    101.92   8.60   \n",
      "12         17          31.24      101.0            400.47    192.34  15.82   \n",
      "13         18          26.44       92.0            333.03    113.92  10.60   \n",
      "14         19          31.66       75.0            102.67     49.95   4.27   \n",
      "15         20          30.97       95.0            482.20    221.52  18.61   \n",
      "16         21          23.75      100.0            231.20     83.12   8.09   \n",
      "17         22          23.86       95.0            337.53    116.60  11.41   \n",
      "18         23          30.02      119.0            468.73    205.85  18.02   \n",
      "19         24          27.28       88.0            581.40    229.57  21.81   \n",
      "20         25          29.73       89.0            528.63    229.73  19.63   \n",
      "21         26          35.77      110.0            579.43    310.70  25.73   \n",
      "22         27          27.18      100.0            246.50     96.05   8.55   \n",
      "23         28          23.04       94.0            276.33     91.30   9.25   \n",
      "24         29          26.60      101.0            441.43    165.04  15.20   \n",
      "25         30          24.36      100.0            346.03    136.30  12.79   \n",
      "26         31          29.17       93.0            429.07    194.67  17.37   \n",
      "27         32          27.67       85.0            275.00    123.67  10.96   \n",
      "28         33          23.69       63.0             84.27     27.62   2.74   \n",
      "29         34          24.63       82.0            279.63     94.68   9.33   \n",
      "\n",
      "    mileage  coolant_temp  \n",
      "0     10.25            86  \n",
      "1      8.71            73  \n",
      "2      9.07            85  \n",
      "3     10.78            85  \n",
      "4     11.77            85  \n",
      "5     11.65            86  \n",
      "6     11.01            87  \n",
      "7     13.32            87  \n",
      "8     12.53            85  \n",
      "9     10.88            86  \n",
      "10    10.73            85  \n",
      "11    11.84            85  \n",
      "12    12.16            86  \n",
      "13    10.74            86  \n",
      "14    11.70            91  \n",
      "15    11.90            89  \n",
      "16    10.27            88  \n",
      "17    10.22            88  \n",
      "18    11.42            87  \n",
      "19    10.53            88  \n",
      "20    11.71            88  \n",
      "21    12.07            88  \n",
      "22    11.23            83  \n",
      "23     9.87            88  \n",
      "24    10.86            87  \n",
      "25    10.66            87  \n",
      "26    11.21            85  \n",
      "27    11.28            81  \n",
      "28    10.07            80  \n",
      "29    10.15            84  \n"
     ]
    }
   ],
   "source": [
    "df['month'] = df['time_stamp'].dt.month\n",
    "df['week'] = df['time_stamp'].dt.isocalendar().week\n",
    "\n",
    "ch = input(\"Enter the Time Frame for Summary Data (month or week) :\")\n",
    "\n",
    "summary = { 'timeframe':[], 'average_speed':[], 'max_speed':[], 'total_drive_time':[], 'distance':[], \n",
    "                'fuel':[], 'mileage':[], 'coolant_temp':[] }\n",
    "\n",
    "data = df.groupby(ch)\n",
    "for time, group in data:\n",
    "    summary['timeframe'].append(time)\n",
    "\n",
    "    stats = group.groupby('trip').agg({'fuel_consumption (liters)':'sum','duration (mins)':'mean'}).reset_index()\n",
    "    fuel = stats['fuel_consumption (liters)'].sum()\n",
    "    dist = group['distance'].sum()\n",
    "\n",
    "    coolant_temp = group.loc[group['engine_coolant_temperature']!=0,'engine_coolant_temperature'].mean()\n",
    "\n",
    "    summary['average_speed'].append(round(group.loc[group['vehicle_speed']!=0,'vehicle_speed'].mean(),2))\n",
    "    summary['max_speed'].append(group['vehicle_speed'].max())\n",
    "    summary['total_drive_time'].append(round(stats['duration (mins)'].sum(),2))\n",
    "    summary['distance'].append(round(dist,2))\n",
    "    summary['fuel'].append(round(fuel,2))\n",
    "    summary['mileage'].append(round(dist/fuel,2))\n",
    "    summary['coolant_temp'].append(round(coolant_temp))\n",
    "\n",
    "\n",
    "summary_df = pd.DataFrame(summary)\n",
    "print(summary_df)"
   ]
  },
  {
   "cell_type": "markdown",
   "metadata": {},
   "source": [
    "Plotting the historic Data"
   ]
  },
  {
   "cell_type": "code",
   "execution_count": 9,
   "metadata": {},
   "outputs": [
    {
     "data": {
      "application/vnd.plotly.v1+json": {
       "config": {
        "plotlyServerURL": "https://plot.ly"
       },
       "data": [
        {
         "mode": "lines",
         "name": "Mileage",
         "type": "scatter",
         "x": [
          5,
          6,
          7,
          8,
          9,
          10,
          11,
          12,
          13,
          14,
          15,
          16,
          17,
          18,
          19,
          20,
          21,
          22,
          23,
          24,
          25,
          26,
          27,
          28,
          29,
          30,
          31,
          32,
          33,
          34
         ],
         "y": [
          10.25,
          8.71,
          9.07,
          10.78,
          11.77,
          11.65,
          11.01,
          13.32,
          12.53,
          10.88,
          10.73,
          11.84,
          12.16,
          10.74,
          11.7,
          11.9,
          10.27,
          10.22,
          11.42,
          10.53,
          11.71,
          12.07,
          11.23,
          9.87,
          10.86,
          10.66,
          11.21,
          11.28,
          10.07,
          10.15
         ],
         "yaxis": "y"
        },
        {
         "mode": "lines",
         "name": "Fuel Consumption",
         "opacity": 0.5,
         "type": "scatter",
         "x": [
          5,
          6,
          7,
          8,
          9,
          10,
          11,
          12,
          13,
          14,
          15,
          16,
          17,
          18,
          19,
          20,
          21,
          22,
          23,
          24,
          25,
          26,
          27,
          28,
          29,
          30,
          31,
          32,
          33,
          34
         ],
         "y": [
          4.85,
          0.56,
          2.21,
          9.62,
          10.51,
          18.72,
          9.8,
          21.06,
          9.28,
          28.19,
          10.38,
          8.6,
          15.82,
          10.6,
          4.27,
          18.61,
          8.09,
          11.41,
          18.02,
          21.81,
          19.63,
          25.73,
          8.55,
          9.25,
          15.2,
          12.79,
          17.37,
          10.96,
          2.74,
          9.33
         ],
         "yaxis": "y2"
        },
        {
         "mode": "lines",
         "name": "Distance Travelled",
         "opacity": 0.5,
         "type": "scatter",
         "x": [
          5,
          6,
          7,
          8,
          9,
          10,
          11,
          12,
          13,
          14,
          15,
          16,
          17,
          18,
          19,
          20,
          21,
          22,
          23,
          24,
          25,
          26,
          27,
          28,
          29,
          30,
          31,
          32,
          33,
          34
         ],
         "y": [
          49.75,
          4.9,
          20.07,
          103.69,
          123.69,
          218.14,
          107.92,
          280.38,
          116.33,
          306.7,
          111.39,
          101.92,
          192.34,
          113.92,
          49.95,
          221.52,
          83.12,
          116.6,
          205.85,
          229.57,
          229.73,
          310.7,
          96.05,
          91.3,
          165.04,
          136.3,
          194.67,
          123.67,
          27.62,
          94.68
         ],
         "yaxis": "y3"
        },
        {
         "mode": "lines",
         "name": "Average Engine Coolant Temperature",
         "opacity": 0.5,
         "type": "scatter",
         "x": [
          5,
          6,
          7,
          8,
          9,
          10,
          11,
          12,
          13,
          14,
          15,
          16,
          17,
          18,
          19,
          20,
          21,
          22,
          23,
          24,
          25,
          26,
          27,
          28,
          29,
          30,
          31,
          32,
          33,
          34
         ],
         "y": [
          86,
          73,
          85,
          85,
          85,
          86,
          87,
          87,
          85,
          86,
          85,
          85,
          86,
          86,
          91,
          89,
          88,
          88,
          87,
          88,
          88,
          88,
          83,
          88,
          87,
          87,
          85,
          81,
          80,
          84
         ],
         "yaxis": "y4"
        },
        {
         "mode": "lines",
         "name": "Total Driving Time",
         "type": "scatter",
         "x": [
          5,
          6,
          7,
          8,
          9,
          10,
          11,
          12,
          13,
          14,
          15,
          16,
          17,
          18,
          19,
          20,
          21,
          22,
          23,
          24,
          25,
          26,
          27,
          28,
          29,
          30,
          31,
          32,
          33,
          34
         ],
         "y": [
          133.22,
          14.33,
          42.13,
          339.78,
          369.35,
          611.52,
          311.55,
          585.33,
          297.63,
          511.33,
          329.27,
          258.77,
          400.47,
          333.03,
          102.67,
          482.2,
          231.2,
          337.53,
          468.73,
          581.4,
          528.63,
          579.43,
          246.5,
          276.33,
          441.43,
          346.03,
          429.07,
          275,
          84.27,
          279.63
         ],
         "yaxis": "y5"
        },
        {
         "mode": "lines",
         "name": "Maximum speed",
         "type": "scatter",
         "x": [
          5,
          6,
          7,
          8,
          9,
          10,
          11,
          12,
          13,
          14,
          15,
          16,
          17,
          18,
          19,
          20,
          21,
          22,
          23,
          24,
          25,
          26,
          27,
          28,
          29,
          30,
          31,
          32,
          33,
          34
         ],
         "y": [
          77,
          67,
          76,
          72,
          93,
          100,
          93,
          102,
          89,
          89,
          90,
          85,
          101,
          92,
          75,
          95,
          100,
          95,
          119,
          88,
          89,
          110,
          100,
          94,
          101,
          100,
          93,
          85,
          63,
          82
         ],
         "yaxis": "y6"
        }
       ],
       "layout": {
        "legend": {
         "title": {
          "text": "Parameters"
         }
        },
        "template": {
         "data": {
          "bar": [
           {
            "error_x": {
             "color": "#2a3f5f"
            },
            "error_y": {
             "color": "#2a3f5f"
            },
            "marker": {
             "line": {
              "color": "#E5ECF6",
              "width": 0.5
             },
             "pattern": {
              "fillmode": "overlay",
              "size": 10,
              "solidity": 0.2
             }
            },
            "type": "bar"
           }
          ],
          "barpolar": [
           {
            "marker": {
             "line": {
              "color": "#E5ECF6",
              "width": 0.5
             },
             "pattern": {
              "fillmode": "overlay",
              "size": 10,
              "solidity": 0.2
             }
            },
            "type": "barpolar"
           }
          ],
          "carpet": [
           {
            "aaxis": {
             "endlinecolor": "#2a3f5f",
             "gridcolor": "white",
             "linecolor": "white",
             "minorgridcolor": "white",
             "startlinecolor": "#2a3f5f"
            },
            "baxis": {
             "endlinecolor": "#2a3f5f",
             "gridcolor": "white",
             "linecolor": "white",
             "minorgridcolor": "white",
             "startlinecolor": "#2a3f5f"
            },
            "type": "carpet"
           }
          ],
          "choropleth": [
           {
            "colorbar": {
             "outlinewidth": 0,
             "ticks": ""
            },
            "type": "choropleth"
           }
          ],
          "contour": [
           {
            "colorbar": {
             "outlinewidth": 0,
             "ticks": ""
            },
            "colorscale": [
             [
              0,
              "#0d0887"
             ],
             [
              0.1111111111111111,
              "#46039f"
             ],
             [
              0.2222222222222222,
              "#7201a8"
             ],
             [
              0.3333333333333333,
              "#9c179e"
             ],
             [
              0.4444444444444444,
              "#bd3786"
             ],
             [
              0.5555555555555556,
              "#d8576b"
             ],
             [
              0.6666666666666666,
              "#ed7953"
             ],
             [
              0.7777777777777778,
              "#fb9f3a"
             ],
             [
              0.8888888888888888,
              "#fdca26"
             ],
             [
              1,
              "#f0f921"
             ]
            ],
            "type": "contour"
           }
          ],
          "contourcarpet": [
           {
            "colorbar": {
             "outlinewidth": 0,
             "ticks": ""
            },
            "type": "contourcarpet"
           }
          ],
          "heatmap": [
           {
            "colorbar": {
             "outlinewidth": 0,
             "ticks": ""
            },
            "colorscale": [
             [
              0,
              "#0d0887"
             ],
             [
              0.1111111111111111,
              "#46039f"
             ],
             [
              0.2222222222222222,
              "#7201a8"
             ],
             [
              0.3333333333333333,
              "#9c179e"
             ],
             [
              0.4444444444444444,
              "#bd3786"
             ],
             [
              0.5555555555555556,
              "#d8576b"
             ],
             [
              0.6666666666666666,
              "#ed7953"
             ],
             [
              0.7777777777777778,
              "#fb9f3a"
             ],
             [
              0.8888888888888888,
              "#fdca26"
             ],
             [
              1,
              "#f0f921"
             ]
            ],
            "type": "heatmap"
           }
          ],
          "heatmapgl": [
           {
            "colorbar": {
             "outlinewidth": 0,
             "ticks": ""
            },
            "colorscale": [
             [
              0,
              "#0d0887"
             ],
             [
              0.1111111111111111,
              "#46039f"
             ],
             [
              0.2222222222222222,
              "#7201a8"
             ],
             [
              0.3333333333333333,
              "#9c179e"
             ],
             [
              0.4444444444444444,
              "#bd3786"
             ],
             [
              0.5555555555555556,
              "#d8576b"
             ],
             [
              0.6666666666666666,
              "#ed7953"
             ],
             [
              0.7777777777777778,
              "#fb9f3a"
             ],
             [
              0.8888888888888888,
              "#fdca26"
             ],
             [
              1,
              "#f0f921"
             ]
            ],
            "type": "heatmapgl"
           }
          ],
          "histogram": [
           {
            "marker": {
             "pattern": {
              "fillmode": "overlay",
              "size": 10,
              "solidity": 0.2
             }
            },
            "type": "histogram"
           }
          ],
          "histogram2d": [
           {
            "colorbar": {
             "outlinewidth": 0,
             "ticks": ""
            },
            "colorscale": [
             [
              0,
              "#0d0887"
             ],
             [
              0.1111111111111111,
              "#46039f"
             ],
             [
              0.2222222222222222,
              "#7201a8"
             ],
             [
              0.3333333333333333,
              "#9c179e"
             ],
             [
              0.4444444444444444,
              "#bd3786"
             ],
             [
              0.5555555555555556,
              "#d8576b"
             ],
             [
              0.6666666666666666,
              "#ed7953"
             ],
             [
              0.7777777777777778,
              "#fb9f3a"
             ],
             [
              0.8888888888888888,
              "#fdca26"
             ],
             [
              1,
              "#f0f921"
             ]
            ],
            "type": "histogram2d"
           }
          ],
          "histogram2dcontour": [
           {
            "colorbar": {
             "outlinewidth": 0,
             "ticks": ""
            },
            "colorscale": [
             [
              0,
              "#0d0887"
             ],
             [
              0.1111111111111111,
              "#46039f"
             ],
             [
              0.2222222222222222,
              "#7201a8"
             ],
             [
              0.3333333333333333,
              "#9c179e"
             ],
             [
              0.4444444444444444,
              "#bd3786"
             ],
             [
              0.5555555555555556,
              "#d8576b"
             ],
             [
              0.6666666666666666,
              "#ed7953"
             ],
             [
              0.7777777777777778,
              "#fb9f3a"
             ],
             [
              0.8888888888888888,
              "#fdca26"
             ],
             [
              1,
              "#f0f921"
             ]
            ],
            "type": "histogram2dcontour"
           }
          ],
          "mesh3d": [
           {
            "colorbar": {
             "outlinewidth": 0,
             "ticks": ""
            },
            "type": "mesh3d"
           }
          ],
          "parcoords": [
           {
            "line": {
             "colorbar": {
              "outlinewidth": 0,
              "ticks": ""
             }
            },
            "type": "parcoords"
           }
          ],
          "pie": [
           {
            "automargin": true,
            "type": "pie"
           }
          ],
          "scatter": [
           {
            "fillpattern": {
             "fillmode": "overlay",
             "size": 10,
             "solidity": 0.2
            },
            "type": "scatter"
           }
          ],
          "scatter3d": [
           {
            "line": {
             "colorbar": {
              "outlinewidth": 0,
              "ticks": ""
             }
            },
            "marker": {
             "colorbar": {
              "outlinewidth": 0,
              "ticks": ""
             }
            },
            "type": "scatter3d"
           }
          ],
          "scattercarpet": [
           {
            "marker": {
             "colorbar": {
              "outlinewidth": 0,
              "ticks": ""
             }
            },
            "type": "scattercarpet"
           }
          ],
          "scattergeo": [
           {
            "marker": {
             "colorbar": {
              "outlinewidth": 0,
              "ticks": ""
             }
            },
            "type": "scattergeo"
           }
          ],
          "scattergl": [
           {
            "marker": {
             "colorbar": {
              "outlinewidth": 0,
              "ticks": ""
             }
            },
            "type": "scattergl"
           }
          ],
          "scattermapbox": [
           {
            "marker": {
             "colorbar": {
              "outlinewidth": 0,
              "ticks": ""
             }
            },
            "type": "scattermapbox"
           }
          ],
          "scatterpolar": [
           {
            "marker": {
             "colorbar": {
              "outlinewidth": 0,
              "ticks": ""
             }
            },
            "type": "scatterpolar"
           }
          ],
          "scatterpolargl": [
           {
            "marker": {
             "colorbar": {
              "outlinewidth": 0,
              "ticks": ""
             }
            },
            "type": "scatterpolargl"
           }
          ],
          "scatterternary": [
           {
            "marker": {
             "colorbar": {
              "outlinewidth": 0,
              "ticks": ""
             }
            },
            "type": "scatterternary"
           }
          ],
          "surface": [
           {
            "colorbar": {
             "outlinewidth": 0,
             "ticks": ""
            },
            "colorscale": [
             [
              0,
              "#0d0887"
             ],
             [
              0.1111111111111111,
              "#46039f"
             ],
             [
              0.2222222222222222,
              "#7201a8"
             ],
             [
              0.3333333333333333,
              "#9c179e"
             ],
             [
              0.4444444444444444,
              "#bd3786"
             ],
             [
              0.5555555555555556,
              "#d8576b"
             ],
             [
              0.6666666666666666,
              "#ed7953"
             ],
             [
              0.7777777777777778,
              "#fb9f3a"
             ],
             [
              0.8888888888888888,
              "#fdca26"
             ],
             [
              1,
              "#f0f921"
             ]
            ],
            "type": "surface"
           }
          ],
          "table": [
           {
            "cells": {
             "fill": {
              "color": "#EBF0F8"
             },
             "line": {
              "color": "white"
             }
            },
            "header": {
             "fill": {
              "color": "#C8D4E3"
             },
             "line": {
              "color": "white"
             }
            },
            "type": "table"
           }
          ]
         },
         "layout": {
          "annotationdefaults": {
           "arrowcolor": "#2a3f5f",
           "arrowhead": 0,
           "arrowwidth": 1
          },
          "autotypenumbers": "strict",
          "coloraxis": {
           "colorbar": {
            "outlinewidth": 0,
            "ticks": ""
           }
          },
          "colorscale": {
           "diverging": [
            [
             0,
             "#8e0152"
            ],
            [
             0.1,
             "#c51b7d"
            ],
            [
             0.2,
             "#de77ae"
            ],
            [
             0.3,
             "#f1b6da"
            ],
            [
             0.4,
             "#fde0ef"
            ],
            [
             0.5,
             "#f7f7f7"
            ],
            [
             0.6,
             "#e6f5d0"
            ],
            [
             0.7,
             "#b8e186"
            ],
            [
             0.8,
             "#7fbc41"
            ],
            [
             0.9,
             "#4d9221"
            ],
            [
             1,
             "#276419"
            ]
           ],
           "sequential": [
            [
             0,
             "#0d0887"
            ],
            [
             0.1111111111111111,
             "#46039f"
            ],
            [
             0.2222222222222222,
             "#7201a8"
            ],
            [
             0.3333333333333333,
             "#9c179e"
            ],
            [
             0.4444444444444444,
             "#bd3786"
            ],
            [
             0.5555555555555556,
             "#d8576b"
            ],
            [
             0.6666666666666666,
             "#ed7953"
            ],
            [
             0.7777777777777778,
             "#fb9f3a"
            ],
            [
             0.8888888888888888,
             "#fdca26"
            ],
            [
             1,
             "#f0f921"
            ]
           ],
           "sequentialminus": [
            [
             0,
             "#0d0887"
            ],
            [
             0.1111111111111111,
             "#46039f"
            ],
            [
             0.2222222222222222,
             "#7201a8"
            ],
            [
             0.3333333333333333,
             "#9c179e"
            ],
            [
             0.4444444444444444,
             "#bd3786"
            ],
            [
             0.5555555555555556,
             "#d8576b"
            ],
            [
             0.6666666666666666,
             "#ed7953"
            ],
            [
             0.7777777777777778,
             "#fb9f3a"
            ],
            [
             0.8888888888888888,
             "#fdca26"
            ],
            [
             1,
             "#f0f921"
            ]
           ]
          },
          "colorway": [
           "#636efa",
           "#EF553B",
           "#00cc96",
           "#ab63fa",
           "#FFA15A",
           "#19d3f3",
           "#FF6692",
           "#B6E880",
           "#FF97FF",
           "#FECB52"
          ],
          "font": {
           "color": "#2a3f5f"
          },
          "geo": {
           "bgcolor": "white",
           "lakecolor": "white",
           "landcolor": "#E5ECF6",
           "showlakes": true,
           "showland": true,
           "subunitcolor": "white"
          },
          "hoverlabel": {
           "align": "left"
          },
          "hovermode": "closest",
          "mapbox": {
           "style": "light"
          },
          "paper_bgcolor": "white",
          "plot_bgcolor": "#E5ECF6",
          "polar": {
           "angularaxis": {
            "gridcolor": "white",
            "linecolor": "white",
            "ticks": ""
           },
           "bgcolor": "#E5ECF6",
           "radialaxis": {
            "gridcolor": "white",
            "linecolor": "white",
            "ticks": ""
           }
          },
          "scene": {
           "xaxis": {
            "backgroundcolor": "#E5ECF6",
            "gridcolor": "white",
            "gridwidth": 2,
            "linecolor": "white",
            "showbackground": true,
            "ticks": "",
            "zerolinecolor": "white"
           },
           "yaxis": {
            "backgroundcolor": "#E5ECF6",
            "gridcolor": "white",
            "gridwidth": 2,
            "linecolor": "white",
            "showbackground": true,
            "ticks": "",
            "zerolinecolor": "white"
           },
           "zaxis": {
            "backgroundcolor": "#E5ECF6",
            "gridcolor": "white",
            "gridwidth": 2,
            "linecolor": "white",
            "showbackground": true,
            "ticks": "",
            "zerolinecolor": "white"
           }
          },
          "shapedefaults": {
           "line": {
            "color": "#2a3f5f"
           }
          },
          "ternary": {
           "aaxis": {
            "gridcolor": "white",
            "linecolor": "white",
            "ticks": ""
           },
           "baxis": {
            "gridcolor": "white",
            "linecolor": "white",
            "ticks": ""
           },
           "bgcolor": "#E5ECF6",
           "caxis": {
            "gridcolor": "white",
            "linecolor": "white",
            "ticks": ""
           }
          },
          "title": {
           "x": 0.05
          },
          "xaxis": {
           "automargin": true,
           "gridcolor": "white",
           "linecolor": "white",
           "ticks": "",
           "title": {
            "standoff": 15
           },
           "zerolinecolor": "white",
           "zerolinewidth": 2
          },
          "yaxis": {
           "automargin": true,
           "gridcolor": "white",
           "linecolor": "white",
           "ticks": "",
           "title": {
            "standoff": 15
           },
           "zerolinecolor": "white",
           "zerolinewidth": 2
          }
         }
        },
        "title": {
         "text": "Summary Data by Week"
        },
        "xaxis": {
         "title": {
          "text": "Week"
         }
        },
        "yaxis": {
         "tickfont": {
          "color": "blue"
         },
         "title": {
          "font": {
           "color": "blue"
          },
          "text": "Mileage"
         }
        },
        "yaxis2": {
         "overlaying": "y",
         "showticklabels": false
        },
        "yaxis3": {
         "overlaying": "y",
         "showticklabels": false
        },
        "yaxis4": {
         "overlaying": "y",
         "showticklabels": false
        },
        "yaxis5": {
         "overlaying": "y",
         "showticklabels": false
        },
        "yaxis6": {
         "overlaying": "y",
         "showticklabels": false
        }
       }
      }
     },
     "metadata": {},
     "output_type": "display_data"
    }
   ],
   "source": [
    "import plotly.express as px\n",
    "import plotly.graph_objects as go\n",
    "\n",
    "fig = go.Figure()\n",
    "\n",
    "fig.add_trace(go.Scatter(x=summary_df['timeframe'], y=summary_df['mileage'], \n",
    "                         mode='lines', name='Mileage', yaxis='y1'))\n",
    "\n",
    "fig.add_trace(go.Scatter(x=summary_df['timeframe'], y=summary_df['fuel'], \n",
    "                         mode='lines', name='Fuel Consumption', yaxis='y2', opacity=0.5))\n",
    "\n",
    "fig.add_trace(go.Scatter(x=summary_df['timeframe'], y=summary_df['distance'], \n",
    "                         mode='lines', name='Distance Travelled', yaxis='y3',opacity=0.5))\n",
    "\n",
    "fig.add_trace(go.Scatter(x=summary_df['timeframe'], y=summary_df['coolant_temp'], \n",
    "                         mode='lines', name='Average Engine Coolant Temperature', yaxis='y4',opacity=0.5))\n",
    "\n",
    "fig.add_trace(go.Scatter(x=summary_df['timeframe'], y=summary_df['total_drive_time'], \n",
    "                         mode='lines', name='Total Driving Time', yaxis='y5'))\n",
    "\n",
    "fig.add_trace(go.Scatter(x=summary_df['timeframe'], y=summary_df['max_speed'], \n",
    "                         mode='lines', name='Maximum speed', yaxis='y6'))\n",
    "\n",
    "\n",
    "fig.update_layout(\n",
    "    title=f'Summary Data by {ch.capitalize()}',\n",
    "    xaxis=dict(title=ch.capitalize()),\n",
    "\n",
    "    yaxis=dict(\n",
    "        title=\"Mileage\",\n",
    "        titlefont=dict(color=\"blue\"),\n",
    "        tickfont=dict(color=\"blue\"),\n",
    "    ),\n",
    "\n",
    "    yaxis2=dict(\n",
    "        overlaying=\"y\",\n",
    "        showticklabels=False\n",
    "    ),\n",
    "    \n",
    "    yaxis3=dict(\n",
    "        overlaying=\"y\",\n",
    "        showticklabels=False\n",
    "    ),\n",
    "    \n",
    "    yaxis4=dict(\n",
    "        overlaying=\"y\",\n",
    "        showticklabels=False\n",
    "    ),\n",
    "\n",
    "    yaxis5=dict(\n",
    "        overlaying=\"y\",\n",
    "        showticklabels=False\n",
    "    ),\n",
    "    yaxis6=dict(\n",
    "        overlaying=\"y\",\n",
    "        showticklabels=False\n",
    "    ),\n",
    "\n",
    "    legend_title_text='Parameters'\n",
    ")\n",
    "\n",
    "fig.show()\n"
   ]
  }
 ],
 "metadata": {
  "kernelspec": {
   "display_name": "Python 3",
   "language": "python",
   "name": "python3"
  },
  "language_info": {
   "codemirror_mode": {
    "name": "ipython",
    "version": 3
   },
   "file_extension": ".py",
   "mimetype": "text/x-python",
   "name": "python",
   "nbconvert_exporter": "python",
   "pygments_lexer": "ipython3",
   "version": "3.12.6"
  }
 },
 "nbformat": 4,
 "nbformat_minor": 2
}
