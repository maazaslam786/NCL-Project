{
 "cells": [
  {
   "cell_type": "markdown",
   "metadata": {},
   "source": [
    "Extracting the Trips"
   ]
  },
  {
   "cell_type": "code",
   "execution_count": 1,
   "metadata": {},
   "outputs": [],
   "source": [
    "import pandas as pd\n",
    "import matplotlib.pyplot as plt\n",
    "import numpy as np\n",
    "import seaborn as sns\n",
    "from datetime import datetime\n",
    "\n",
    "df = pd.read_csv('cleaned_data_2021.csv',index_col=0)\n",
    "df['time_stamp'] = pd.to_datetime(df['time_stamp'])\n",
    "df = df.sort_values(by='time_stamp', ascending=True)\n",
    "\n",
    "trips = []\n",
    "trip = []\n",
    "in_trip = False\n",
    "for idx, row in df.iterrows():  #trip starts when engine_rpm increases from zero (engine starts) and ends when engine_rpm again reaches zero (engine turns off)\n",
    "    if row['engine_rpm'] > 0:\n",
    "        if not in_trip:         #checking if the car was already in trip or not\n",
    "            in_trip = True      #starting a new trip as car was not in a trip\n",
    "            trip = []\n",
    "        trip.append(row)\n",
    "    elif row['engine_rpm'] == 0:\n",
    "        if in_trip:             #since there are many zero value, so checking if the car was already in a trip if yes then end the trip\n",
    "            in_trip = False\n",
    "            if trip:\n",
    "                trips.append(pd.DataFrame(trip)) #adding the trip to the trips list\n"
   ]
  },
  {
   "cell_type": "markdown",
   "metadata": {},
   "source": [
    "Preparing the Data"
   ]
  },
  {
   "cell_type": "code",
   "execution_count": 2,
   "metadata": {},
   "outputs": [],
   "source": [
    "for i in trips:\n",
    "    duration = (i.iloc[-1]['time_stamp'] - i.iloc[0]['time_stamp']).total_seconds()\n",
    "    i['duration (mins)'] = duration / 60\n",
    "\n",
    "    # i['time_diff'] = i['time_stamp'].diff().dt.total_seconds()\n",
    "    # i['time_till_speed_continued'] = i['time_diff'].shift(-1)\n",
    "\n",
    "    i['time_till_speed_continued'] = 2\n",
    "    i['final_speed'] = i['vehicle_speed'].shift(-1)\n",
    "    i['acceleration'] = ((i['final_speed']- i['vehicle_speed'])*1000/3600) / i['time_till_speed_continued']\n",
    "    i['distance (km)'] = round(((i['vehicle_speed']*1000/3600)*i['time_till_speed_continued']) + (0.5*i['acceleration']*(i['time_till_speed_continued']**2)),2)\n",
    "    i['distance (km)'] = i['distance (km)']/1000\n",
    "\n",
    "    temp = i.iloc[-1]['vehicle_speed']*1000/3600\n",
    "    i.at[i.index[-1],'acceleration'] = (0-temp)/2\n",
    "    i.at[i.index[-1],'distance (km)'] = round(temp*2 + 0.5*((0-temp)/2)*4) /1000\n",
    "\n",
    "\n",
    "    #older approach calculating fuel consumption of the entire trip\n",
    "    # maf = (i['mass_air_flow_rate'] *i['time_till_speed_continued']).sum() / i['time_till_speed_continued'].sum() /1000\n",
    "    # afr = i['o_s1_b1_fuel_air_equivalence_ratio'].mean()\n",
    "\n",
    "    # fuel_mass_rate = maf / afr\n",
    "    # fuel_consumption_kg = fuel_mass_rate * duration\n",
    "\n",
    "    # i['fuel_consumption (liters)'] = fuel_consumption_kg / 0.75\n",
    "\n",
    "    #newer approach calculating the fuel consumed for the interval of 2 seconds (as each reading is separated by 2 seconds)\n",
    "    i['fuel_mass_flow_rate'] = (i['mass_air_flow_rate']/1000) / i['o_s1_b1_fuel_air_equivalence_ratio']\n",
    "    i['fuel_consumption (liters)'] = (i['fuel_mass_flow_rate'] * 2) / 0.75 # fuel mass flow rate * 2 gives fuel mass flow rate for\n",
    "     #the 2 seconds interval in kg converting it to liters by dividing with the density of fuel = 0.75 kg/L\n",
    "\n",
    "lst = []\n",
    "for i in range(len(trips)):\n",
    "    if trips[i]['vehicle_speed'].mean() != 0:\n",
    "        lst.append(trips[i])\n",
    "\n",
    "df = pd.DataFrame()\n",
    "for i in range(len(lst)):\n",
    "    if lst[i]['vehicle_speed'].mean() != 0:\n",
    "        lst[i]['trip'] = i+1\n",
    "        df = pd.concat([df,lst[i]])\n",
    "\n",
    "\n",
    "df = df.set_index('trip')\n",
    "df['acceleration'] = df['acceleration']*3600/1000\n"
   ]
  },
  {
   "cell_type": "markdown",
   "metadata": {},
   "source": [
    "Extracting Summary Data"
   ]
  },
  {
   "cell_type": "code",
   "execution_count": 3,
   "metadata": {},
   "outputs": [
    {
     "name": "stdout",
     "output_type": "stream",
     "text": [
      "***** February 2021 *****\n",
      "Average Speed: 25.48 kmph\n",
      "Maximum Speed: 77.0\n",
      "Total Driving Time: 529.47 minutes\n",
      "Distance Travelled: 174.29 kms\n",
      "Fuel Consumed: 16.84 liters\n",
      "Mileage for the duration: 10.35 km/L\n",
      "Engine Coolant Temperature: 84.68 °C\n",
      "Engine Overheat Percentage: 0.4 %\n",
      "\n",
      "***** March 2021 *****\n",
      "Average Speed: 26.76 kmph\n",
      "Maximum Speed: 102.0\n",
      "Total Driving Time: 2000.02 minutes\n",
      "Distance Travelled: 780.8 kms\n",
      "Fuel Consumed: 64.25 liters\n",
      "Mileage for the duration: 12.15 km/L\n",
      "Engine Coolant Temperature: 85.81 °C\n",
      "Engine Overheat Percentage: 0.61 %\n",
      "\n",
      "***** April 2021 *****\n",
      "Average Speed: 27.0 kmph\n",
      "Maximum Speed: 101.0\n",
      "Total Driving Time: 1427.13 minutes\n",
      "Distance Travelled: 570.8 kms\n",
      "Fuel Consumed: 49.33 liters\n",
      "Mileage for the duration: 11.57 km/L\n",
      "Engine Coolant Temperature: 86.13 °C\n",
      "Engine Overheat Percentage: 1.01 %\n",
      "\n",
      "***** May 2021 *****\n",
      "Average Speed: 28.09 kmph\n",
      "Maximum Speed: 100.0\n",
      "Total Driving Time: 1328.3 minutes\n",
      "Distance Travelled: 548.91 kms\n",
      "Fuel Consumed: 48.89 liters\n",
      "Mileage for the duration: 11.23 km/L\n",
      "Engine Coolant Temperature: 88.19 °C\n",
      "Engine Overheat Percentage: 0.67 %\n",
      "\n",
      "***** June 2021 *****\n",
      "Average Speed: 28.49 kmph\n",
      "Maximum Speed: 119.0\n",
      "Total Driving Time: 1831.47 minutes\n",
      "Distance Travelled: 773.58 kms\n",
      "Fuel Consumed: 72.89 liters\n",
      "Mileage for the duration: 10.61 km/L\n",
      "Engine Coolant Temperature: 87.2 °C\n",
      "Engine Overheat Percentage: 0.55 %\n",
      "\n",
      "***** July 2021 *****\n",
      "Average Speed: 29.45 kmph\n",
      "Maximum Speed: 110.0\n",
      "Total Driving Time: 1684.0 minutes\n",
      "Distance Travelled: 731.6 kms\n",
      "Fuel Consumed: 64.59 liters\n",
      "Mileage for the duration: 11.33 km/L\n",
      "Engine Coolant Temperature: 87.19 °C\n",
      "Engine Overheat Percentage: 0.27 %\n",
      "\n",
      "***** August 2021 *****\n",
      "Average Speed: 27.13 kmph\n",
      "Maximum Speed: 98.0\n",
      "Total Driving Time: 1082.43 minutes\n",
      "Distance Travelled: 433.7 kms\n",
      "Fuel Consumed: 39.96 liters\n",
      "Mileage for the duration: 10.85 km/L\n",
      "Engine Coolant Temperature: 83.97 °C\n",
      "Engine Overheat Percentage: 0.1 %\n",
      "\n",
      "***** September 2021 *****\n",
      "Average Speed: 23.28 kmph\n",
      "Maximum Speed: 118.0\n",
      "Total Driving Time: 1239.65 minutes\n",
      "Distance Travelled: 307.2 kms\n",
      "Fuel Consumed: 30.98 liters\n",
      "Mileage for the duration: 9.92 km/L\n",
      "Engine Coolant Temperature: 87.76 °C\n",
      "Engine Overheat Percentage: 0.7 %\n",
      "\n",
      "***** October 2021 *****\n",
      "Average Speed: 35.3 kmph\n",
      "Maximum Speed: 142.0\n",
      "Total Driving Time: 3177.95 minutes\n",
      "Distance Travelled: 1609.87 kms\n",
      "Fuel Consumed: 133.03 liters\n",
      "Mileage for the duration: 12.1 km/L\n",
      "Engine Coolant Temperature: 88.22 °C\n",
      "Engine Overheat Percentage: 0.57 %\n",
      "\n",
      "***** November 2021 *****\n",
      "Average Speed: 23.99 kmph\n",
      "Maximum Speed: 108.0\n",
      "Total Driving Time: 2253.67 minutes\n",
      "Distance Travelled: 776.32 kms\n",
      "Fuel Consumed: 69.92 liters\n",
      "Mileage for the duration: 11.1 km/L\n",
      "Engine Coolant Temperature: 86.74 °C\n",
      "Engine Overheat Percentage: 0.47 %\n",
      "\n",
      "***** December 2021 *****\n",
      "Average Speed: 24.71 kmph\n",
      "Maximum Speed: 102.0\n",
      "Total Driving Time: 2069.25 minutes\n",
      "Distance Travelled: 749.81 kms\n",
      "Fuel Consumed: 61.89 liters\n",
      "Mileage for the duration: 12.12 km/L\n",
      "Engine Coolant Temperature: 85.06 °C\n",
      "Engine Overheat Percentage: 0.95 %\n",
      "\n"
     ]
    }
   ],
   "source": [
    "df['month'] = df['time_stamp'].dt.to_period('M').dt.to_timestamp()\n",
    "df['week'] = df['time_stamp'].dt.isocalendar().week\n",
    "df['day'] = df['time_stamp'].dt.date\n",
    "\n",
    "ch = input(\"Enter the Time Frame for Summary Data (month or week or day) :\")\n",
    "\n",
    "summary = { 'timeframe':[], 'average_speed':[], 'max_speed':[], 'total_drive_time':[], 'distance (km)':[], \n",
    "                'fuel':[], 'mileage':[], 'coolant_temp':[], 'engine_overheat':[] }\n",
    "week = False\n",
    "if ch == 'week':\n",
    "    week = True\n",
    "\n",
    "data = df.groupby(ch)\n",
    "for time, group in data:\n",
    "    if ch==\"month\":\n",
    "        print(\"*****\",time.strftime(\"%B %Y\"),\"*****\")\n",
    "    elif ch=='week':\n",
    "        print('***** Week No.',time,\"*****\")\n",
    "    else:\n",
    "        print(time)\n",
    "\n",
    "    if week:\n",
    "        time = datetime.strptime(f'2021 {time} 1', '%Y %W %w')\n",
    "\n",
    "    summary['timeframe'].append(time)\n",
    "\n",
    "    stats = group.groupby('trip').agg({'fuel_consumption (liters)':'sum','duration (mins)':'mean'}).reset_index()\n",
    "    fuel = stats['fuel_consumption (liters)'].sum()\n",
    "    dist = group['distance (km)'].sum()\n",
    "\n",
    "    coolant_temp = group.loc[group['engine_coolant_temperature']!=0,'engine_coolant_temperature'].mean()\n",
    "    overheat = group[(group['engine_coolant_temperature'] >= 95)]\n",
    "    overheat_percent = (len(overheat) / len(group)) * 100\n",
    "\n",
    "    summary['average_speed'].append(round(group.loc[group['vehicle_speed']!=0,'vehicle_speed'].mean(),2))\n",
    "    summary['max_speed'].append(group['vehicle_speed'].max())\n",
    "    summary['total_drive_time'].append(round(stats['duration (mins)'].sum(),2))\n",
    "    summary['distance (km)'].append(round(dist,2))\n",
    "    summary['fuel'].append(round(fuel,2))\n",
    "    summary['mileage'].append(round(dist/fuel,2))\n",
    "    summary['coolant_temp'].append(round(coolant_temp,2))\n",
    "    summary['engine_overheat'].append(round(overheat_percent,2))\n",
    "\n",
    "    print('Average Speed:',round(group.loc[group['vehicle_speed']!=0,'vehicle_speed'].mean(),2),'kmph')\n",
    "    print('Maximum Speed:',group['vehicle_speed'].max())\n",
    "    print('Total Driving Time:',round(stats['duration (mins)'].sum(),2),'minutes')\n",
    "    print('Distance Travelled:',round(dist,2),'kms')\n",
    "    print('Fuel Consumed:',round(fuel,2),'liters')\n",
    "    print('Mileage for the duration:',round(dist/fuel,2),'km/L')\n",
    "    print('Engine Coolant Temperature:',round(coolant_temp,2),'°C')\n",
    "    print('Engine Overheat Percentage:',round(overheat_percent,2),'%')\n",
    "    print()\n",
    "\n",
    "summary_df = pd.DataFrame(summary)"
   ]
  },
  {
   "cell_type": "markdown",
   "metadata": {},
   "source": [
    "Plotting the historic Data"
   ]
  },
  {
   "cell_type": "code",
   "execution_count": 4,
   "metadata": {},
   "outputs": [
    {
     "name": "stdout",
     "output_type": "stream",
     "text": [
      "    timeframe  average_speed  max_speed  total_drive_time  distance (km)  \\\n",
      "0  2021-02-01          25.48       77.0            529.47         174.29   \n",
      "1  2021-03-01          26.76      102.0           2000.02         780.80   \n",
      "2  2021-04-01          27.00      101.0           1427.13         570.80   \n",
      "3  2021-05-01          28.09      100.0           1328.30         548.91   \n",
      "4  2021-06-01          28.49      119.0           1831.47         773.58   \n",
      "5  2021-07-01          29.45      110.0           1684.00         731.60   \n",
      "6  2021-08-01          27.13       98.0           1082.43         433.70   \n",
      "7  2021-09-01          23.28      118.0           1239.65         307.20   \n",
      "8  2021-10-01          35.30      142.0           3177.95        1609.87   \n",
      "9  2021-11-01          23.99      108.0           2253.67         776.32   \n",
      "10 2021-12-01          24.71      102.0           2069.25         749.81   \n",
      "\n",
      "      fuel  mileage  coolant_temp  engine_overheat  \n",
      "0    16.84    10.35         84.68             0.40  \n",
      "1    64.25    12.15         85.81             0.61  \n",
      "2    49.33    11.57         86.13             1.01  \n",
      "3    48.89    11.23         88.19             0.67  \n",
      "4    72.89    10.61         87.20             0.55  \n",
      "5    64.59    11.33         87.19             0.27  \n",
      "6    39.96    10.85         83.97             0.10  \n",
      "7    30.98     9.92         87.76             0.70  \n",
      "8   133.03    12.10         88.22             0.57  \n",
      "9    69.92    11.10         86.74             0.47  \n",
      "10   61.89    12.12         85.06             0.95  \n"
     ]
    },
    {
     "data": {
      "application/vnd.plotly.v1+json": {
       "config": {
        "plotlyServerURL": "https://plot.ly"
       },
       "data": [
        {
         "mode": "lines",
         "name": "Mileage",
         "type": "scatter",
         "x": [
          "2021-02-01T00:00:00",
          "2021-03-01T00:00:00",
          "2021-04-01T00:00:00",
          "2021-05-01T00:00:00",
          "2021-06-01T00:00:00",
          "2021-07-01T00:00:00",
          "2021-08-01T00:00:00",
          "2021-09-01T00:00:00",
          "2021-10-01T00:00:00",
          "2021-11-01T00:00:00",
          "2021-12-01T00:00:00"
         ],
         "y": [
          10.35,
          12.15,
          11.57,
          11.23,
          10.61,
          11.33,
          10.85,
          9.92,
          12.1,
          11.1,
          12.12
         ],
         "yaxis": "y"
        },
        {
         "mode": "lines",
         "name": "Fuel Consumption",
         "opacity": 0.5,
         "type": "scatter",
         "x": [
          "2021-02-01T00:00:00",
          "2021-03-01T00:00:00",
          "2021-04-01T00:00:00",
          "2021-05-01T00:00:00",
          "2021-06-01T00:00:00",
          "2021-07-01T00:00:00",
          "2021-08-01T00:00:00",
          "2021-09-01T00:00:00",
          "2021-10-01T00:00:00",
          "2021-11-01T00:00:00",
          "2021-12-01T00:00:00"
         ],
         "y": [
          16.84,
          64.25,
          49.33,
          48.89,
          72.89,
          64.59,
          39.96,
          30.98,
          133.03,
          69.92,
          61.89
         ],
         "yaxis": "y2"
        },
        {
         "mode": "lines",
         "name": "Distance Travelled",
         "opacity": 0.5,
         "type": "scatter",
         "x": [
          "2021-02-01T00:00:00",
          "2021-03-01T00:00:00",
          "2021-04-01T00:00:00",
          "2021-05-01T00:00:00",
          "2021-06-01T00:00:00",
          "2021-07-01T00:00:00",
          "2021-08-01T00:00:00",
          "2021-09-01T00:00:00",
          "2021-10-01T00:00:00",
          "2021-11-01T00:00:00",
          "2021-12-01T00:00:00"
         ],
         "y": [
          174.29,
          780.8,
          570.8,
          548.91,
          773.58,
          731.6,
          433.7,
          307.2,
          1609.87,
          776.32,
          749.81
         ],
         "yaxis": "y3"
        },
        {
         "mode": "lines",
         "name": "Average Engine Coolant Temperature",
         "opacity": 0.5,
         "type": "scatter",
         "x": [
          "2021-02-01T00:00:00",
          "2021-03-01T00:00:00",
          "2021-04-01T00:00:00",
          "2021-05-01T00:00:00",
          "2021-06-01T00:00:00",
          "2021-07-01T00:00:00",
          "2021-08-01T00:00:00",
          "2021-09-01T00:00:00",
          "2021-10-01T00:00:00",
          "2021-11-01T00:00:00",
          "2021-12-01T00:00:00"
         ],
         "y": [
          84.68,
          85.81,
          86.13,
          88.19,
          87.2,
          87.19,
          83.97,
          87.76,
          88.22,
          86.74,
          85.06
         ],
         "yaxis": "y4"
        },
        {
         "mode": "lines",
         "name": "Total Driving Time",
         "type": "scatter",
         "x": [
          "2021-02-01T00:00:00",
          "2021-03-01T00:00:00",
          "2021-04-01T00:00:00",
          "2021-05-01T00:00:00",
          "2021-06-01T00:00:00",
          "2021-07-01T00:00:00",
          "2021-08-01T00:00:00",
          "2021-09-01T00:00:00",
          "2021-10-01T00:00:00",
          "2021-11-01T00:00:00",
          "2021-12-01T00:00:00"
         ],
         "y": [
          529.47,
          2000.02,
          1427.13,
          1328.3,
          1831.47,
          1684,
          1082.43,
          1239.65,
          3177.95,
          2253.67,
          2069.25
         ],
         "yaxis": "y5"
        },
        {
         "mode": "lines",
         "name": "Maximum speed",
         "type": "scatter",
         "x": [
          "2021-02-01T00:00:00",
          "2021-03-01T00:00:00",
          "2021-04-01T00:00:00",
          "2021-05-01T00:00:00",
          "2021-06-01T00:00:00",
          "2021-07-01T00:00:00",
          "2021-08-01T00:00:00",
          "2021-09-01T00:00:00",
          "2021-10-01T00:00:00",
          "2021-11-01T00:00:00",
          "2021-12-01T00:00:00"
         ],
         "y": [
          77,
          102,
          101,
          100,
          119,
          110,
          98,
          118,
          142,
          108,
          102
         ],
         "yaxis": "y6"
        }
       ],
       "layout": {
        "legend": {
         "title": {
          "text": "Parameters"
         }
        },
        "template": {
         "data": {
          "bar": [
           {
            "error_x": {
             "color": "#2a3f5f"
            },
            "error_y": {
             "color": "#2a3f5f"
            },
            "marker": {
             "line": {
              "color": "#E5ECF6",
              "width": 0.5
             },
             "pattern": {
              "fillmode": "overlay",
              "size": 10,
              "solidity": 0.2
             }
            },
            "type": "bar"
           }
          ],
          "barpolar": [
           {
            "marker": {
             "line": {
              "color": "#E5ECF6",
              "width": 0.5
             },
             "pattern": {
              "fillmode": "overlay",
              "size": 10,
              "solidity": 0.2
             }
            },
            "type": "barpolar"
           }
          ],
          "carpet": [
           {
            "aaxis": {
             "endlinecolor": "#2a3f5f",
             "gridcolor": "white",
             "linecolor": "white",
             "minorgridcolor": "white",
             "startlinecolor": "#2a3f5f"
            },
            "baxis": {
             "endlinecolor": "#2a3f5f",
             "gridcolor": "white",
             "linecolor": "white",
             "minorgridcolor": "white",
             "startlinecolor": "#2a3f5f"
            },
            "type": "carpet"
           }
          ],
          "choropleth": [
           {
            "colorbar": {
             "outlinewidth": 0,
             "ticks": ""
            },
            "type": "choropleth"
           }
          ],
          "contour": [
           {
            "colorbar": {
             "outlinewidth": 0,
             "ticks": ""
            },
            "colorscale": [
             [
              0,
              "#0d0887"
             ],
             [
              0.1111111111111111,
              "#46039f"
             ],
             [
              0.2222222222222222,
              "#7201a8"
             ],
             [
              0.3333333333333333,
              "#9c179e"
             ],
             [
              0.4444444444444444,
              "#bd3786"
             ],
             [
              0.5555555555555556,
              "#d8576b"
             ],
             [
              0.6666666666666666,
              "#ed7953"
             ],
             [
              0.7777777777777778,
              "#fb9f3a"
             ],
             [
              0.8888888888888888,
              "#fdca26"
             ],
             [
              1,
              "#f0f921"
             ]
            ],
            "type": "contour"
           }
          ],
          "contourcarpet": [
           {
            "colorbar": {
             "outlinewidth": 0,
             "ticks": ""
            },
            "type": "contourcarpet"
           }
          ],
          "heatmap": [
           {
            "colorbar": {
             "outlinewidth": 0,
             "ticks": ""
            },
            "colorscale": [
             [
              0,
              "#0d0887"
             ],
             [
              0.1111111111111111,
              "#46039f"
             ],
             [
              0.2222222222222222,
              "#7201a8"
             ],
             [
              0.3333333333333333,
              "#9c179e"
             ],
             [
              0.4444444444444444,
              "#bd3786"
             ],
             [
              0.5555555555555556,
              "#d8576b"
             ],
             [
              0.6666666666666666,
              "#ed7953"
             ],
             [
              0.7777777777777778,
              "#fb9f3a"
             ],
             [
              0.8888888888888888,
              "#fdca26"
             ],
             [
              1,
              "#f0f921"
             ]
            ],
            "type": "heatmap"
           }
          ],
          "heatmapgl": [
           {
            "colorbar": {
             "outlinewidth": 0,
             "ticks": ""
            },
            "colorscale": [
             [
              0,
              "#0d0887"
             ],
             [
              0.1111111111111111,
              "#46039f"
             ],
             [
              0.2222222222222222,
              "#7201a8"
             ],
             [
              0.3333333333333333,
              "#9c179e"
             ],
             [
              0.4444444444444444,
              "#bd3786"
             ],
             [
              0.5555555555555556,
              "#d8576b"
             ],
             [
              0.6666666666666666,
              "#ed7953"
             ],
             [
              0.7777777777777778,
              "#fb9f3a"
             ],
             [
              0.8888888888888888,
              "#fdca26"
             ],
             [
              1,
              "#f0f921"
             ]
            ],
            "type": "heatmapgl"
           }
          ],
          "histogram": [
           {
            "marker": {
             "pattern": {
              "fillmode": "overlay",
              "size": 10,
              "solidity": 0.2
             }
            },
            "type": "histogram"
           }
          ],
          "histogram2d": [
           {
            "colorbar": {
             "outlinewidth": 0,
             "ticks": ""
            },
            "colorscale": [
             [
              0,
              "#0d0887"
             ],
             [
              0.1111111111111111,
              "#46039f"
             ],
             [
              0.2222222222222222,
              "#7201a8"
             ],
             [
              0.3333333333333333,
              "#9c179e"
             ],
             [
              0.4444444444444444,
              "#bd3786"
             ],
             [
              0.5555555555555556,
              "#d8576b"
             ],
             [
              0.6666666666666666,
              "#ed7953"
             ],
             [
              0.7777777777777778,
              "#fb9f3a"
             ],
             [
              0.8888888888888888,
              "#fdca26"
             ],
             [
              1,
              "#f0f921"
             ]
            ],
            "type": "histogram2d"
           }
          ],
          "histogram2dcontour": [
           {
            "colorbar": {
             "outlinewidth": 0,
             "ticks": ""
            },
            "colorscale": [
             [
              0,
              "#0d0887"
             ],
             [
              0.1111111111111111,
              "#46039f"
             ],
             [
              0.2222222222222222,
              "#7201a8"
             ],
             [
              0.3333333333333333,
              "#9c179e"
             ],
             [
              0.4444444444444444,
              "#bd3786"
             ],
             [
              0.5555555555555556,
              "#d8576b"
             ],
             [
              0.6666666666666666,
              "#ed7953"
             ],
             [
              0.7777777777777778,
              "#fb9f3a"
             ],
             [
              0.8888888888888888,
              "#fdca26"
             ],
             [
              1,
              "#f0f921"
             ]
            ],
            "type": "histogram2dcontour"
           }
          ],
          "mesh3d": [
           {
            "colorbar": {
             "outlinewidth": 0,
             "ticks": ""
            },
            "type": "mesh3d"
           }
          ],
          "parcoords": [
           {
            "line": {
             "colorbar": {
              "outlinewidth": 0,
              "ticks": ""
             }
            },
            "type": "parcoords"
           }
          ],
          "pie": [
           {
            "automargin": true,
            "type": "pie"
           }
          ],
          "scatter": [
           {
            "fillpattern": {
             "fillmode": "overlay",
             "size": 10,
             "solidity": 0.2
            },
            "type": "scatter"
           }
          ],
          "scatter3d": [
           {
            "line": {
             "colorbar": {
              "outlinewidth": 0,
              "ticks": ""
             }
            },
            "marker": {
             "colorbar": {
              "outlinewidth": 0,
              "ticks": ""
             }
            },
            "type": "scatter3d"
           }
          ],
          "scattercarpet": [
           {
            "marker": {
             "colorbar": {
              "outlinewidth": 0,
              "ticks": ""
             }
            },
            "type": "scattercarpet"
           }
          ],
          "scattergeo": [
           {
            "marker": {
             "colorbar": {
              "outlinewidth": 0,
              "ticks": ""
             }
            },
            "type": "scattergeo"
           }
          ],
          "scattergl": [
           {
            "marker": {
             "colorbar": {
              "outlinewidth": 0,
              "ticks": ""
             }
            },
            "type": "scattergl"
           }
          ],
          "scattermapbox": [
           {
            "marker": {
             "colorbar": {
              "outlinewidth": 0,
              "ticks": ""
             }
            },
            "type": "scattermapbox"
           }
          ],
          "scatterpolar": [
           {
            "marker": {
             "colorbar": {
              "outlinewidth": 0,
              "ticks": ""
             }
            },
            "type": "scatterpolar"
           }
          ],
          "scatterpolargl": [
           {
            "marker": {
             "colorbar": {
              "outlinewidth": 0,
              "ticks": ""
             }
            },
            "type": "scatterpolargl"
           }
          ],
          "scatterternary": [
           {
            "marker": {
             "colorbar": {
              "outlinewidth": 0,
              "ticks": ""
             }
            },
            "type": "scatterternary"
           }
          ],
          "surface": [
           {
            "colorbar": {
             "outlinewidth": 0,
             "ticks": ""
            },
            "colorscale": [
             [
              0,
              "#0d0887"
             ],
             [
              0.1111111111111111,
              "#46039f"
             ],
             [
              0.2222222222222222,
              "#7201a8"
             ],
             [
              0.3333333333333333,
              "#9c179e"
             ],
             [
              0.4444444444444444,
              "#bd3786"
             ],
             [
              0.5555555555555556,
              "#d8576b"
             ],
             [
              0.6666666666666666,
              "#ed7953"
             ],
             [
              0.7777777777777778,
              "#fb9f3a"
             ],
             [
              0.8888888888888888,
              "#fdca26"
             ],
             [
              1,
              "#f0f921"
             ]
            ],
            "type": "surface"
           }
          ],
          "table": [
           {
            "cells": {
             "fill": {
              "color": "#EBF0F8"
             },
             "line": {
              "color": "white"
             }
            },
            "header": {
             "fill": {
              "color": "#C8D4E3"
             },
             "line": {
              "color": "white"
             }
            },
            "type": "table"
           }
          ]
         },
         "layout": {
          "annotationdefaults": {
           "arrowcolor": "#2a3f5f",
           "arrowhead": 0,
           "arrowwidth": 1
          },
          "autotypenumbers": "strict",
          "coloraxis": {
           "colorbar": {
            "outlinewidth": 0,
            "ticks": ""
           }
          },
          "colorscale": {
           "diverging": [
            [
             0,
             "#8e0152"
            ],
            [
             0.1,
             "#c51b7d"
            ],
            [
             0.2,
             "#de77ae"
            ],
            [
             0.3,
             "#f1b6da"
            ],
            [
             0.4,
             "#fde0ef"
            ],
            [
             0.5,
             "#f7f7f7"
            ],
            [
             0.6,
             "#e6f5d0"
            ],
            [
             0.7,
             "#b8e186"
            ],
            [
             0.8,
             "#7fbc41"
            ],
            [
             0.9,
             "#4d9221"
            ],
            [
             1,
             "#276419"
            ]
           ],
           "sequential": [
            [
             0,
             "#0d0887"
            ],
            [
             0.1111111111111111,
             "#46039f"
            ],
            [
             0.2222222222222222,
             "#7201a8"
            ],
            [
             0.3333333333333333,
             "#9c179e"
            ],
            [
             0.4444444444444444,
             "#bd3786"
            ],
            [
             0.5555555555555556,
             "#d8576b"
            ],
            [
             0.6666666666666666,
             "#ed7953"
            ],
            [
             0.7777777777777778,
             "#fb9f3a"
            ],
            [
             0.8888888888888888,
             "#fdca26"
            ],
            [
             1,
             "#f0f921"
            ]
           ],
           "sequentialminus": [
            [
             0,
             "#0d0887"
            ],
            [
             0.1111111111111111,
             "#46039f"
            ],
            [
             0.2222222222222222,
             "#7201a8"
            ],
            [
             0.3333333333333333,
             "#9c179e"
            ],
            [
             0.4444444444444444,
             "#bd3786"
            ],
            [
             0.5555555555555556,
             "#d8576b"
            ],
            [
             0.6666666666666666,
             "#ed7953"
            ],
            [
             0.7777777777777778,
             "#fb9f3a"
            ],
            [
             0.8888888888888888,
             "#fdca26"
            ],
            [
             1,
             "#f0f921"
            ]
           ]
          },
          "colorway": [
           "#636efa",
           "#EF553B",
           "#00cc96",
           "#ab63fa",
           "#FFA15A",
           "#19d3f3",
           "#FF6692",
           "#B6E880",
           "#FF97FF",
           "#FECB52"
          ],
          "font": {
           "color": "#2a3f5f"
          },
          "geo": {
           "bgcolor": "white",
           "lakecolor": "white",
           "landcolor": "#E5ECF6",
           "showlakes": true,
           "showland": true,
           "subunitcolor": "white"
          },
          "hoverlabel": {
           "align": "left"
          },
          "hovermode": "closest",
          "mapbox": {
           "style": "light"
          },
          "paper_bgcolor": "white",
          "plot_bgcolor": "#E5ECF6",
          "polar": {
           "angularaxis": {
            "gridcolor": "white",
            "linecolor": "white",
            "ticks": ""
           },
           "bgcolor": "#E5ECF6",
           "radialaxis": {
            "gridcolor": "white",
            "linecolor": "white",
            "ticks": ""
           }
          },
          "scene": {
           "xaxis": {
            "backgroundcolor": "#E5ECF6",
            "gridcolor": "white",
            "gridwidth": 2,
            "linecolor": "white",
            "showbackground": true,
            "ticks": "",
            "zerolinecolor": "white"
           },
           "yaxis": {
            "backgroundcolor": "#E5ECF6",
            "gridcolor": "white",
            "gridwidth": 2,
            "linecolor": "white",
            "showbackground": true,
            "ticks": "",
            "zerolinecolor": "white"
           },
           "zaxis": {
            "backgroundcolor": "#E5ECF6",
            "gridcolor": "white",
            "gridwidth": 2,
            "linecolor": "white",
            "showbackground": true,
            "ticks": "",
            "zerolinecolor": "white"
           }
          },
          "shapedefaults": {
           "line": {
            "color": "#2a3f5f"
           }
          },
          "ternary": {
           "aaxis": {
            "gridcolor": "white",
            "linecolor": "white",
            "ticks": ""
           },
           "baxis": {
            "gridcolor": "white",
            "linecolor": "white",
            "ticks": ""
           },
           "bgcolor": "#E5ECF6",
           "caxis": {
            "gridcolor": "white",
            "linecolor": "white",
            "ticks": ""
           }
          },
          "title": {
           "x": 0.05
          },
          "xaxis": {
           "automargin": true,
           "gridcolor": "white",
           "linecolor": "white",
           "ticks": "",
           "title": {
            "standoff": 15
           },
           "zerolinecolor": "white",
           "zerolinewidth": 2
          },
          "yaxis": {
           "automargin": true,
           "gridcolor": "white",
           "linecolor": "white",
           "ticks": "",
           "title": {
            "standoff": 15
           },
           "zerolinecolor": "white",
           "zerolinewidth": 2
          }
         }
        },
        "title": {
         "text": "Summary Data by Month"
        },
        "xaxis": {
         "title": {
          "text": "Month"
         }
        },
        "yaxis": {
         "tickfont": {
          "color": "blue"
         },
         "title": {
          "font": {
           "color": "blue"
          },
          "text": "Mileage"
         }
        },
        "yaxis2": {
         "overlaying": "y",
         "showticklabels": false
        },
        "yaxis3": {
         "overlaying": "y",
         "showticklabels": false
        },
        "yaxis4": {
         "overlaying": "y",
         "showticklabels": false
        },
        "yaxis5": {
         "overlaying": "y",
         "showticklabels": false
        },
        "yaxis6": {
         "overlaying": "y",
         "showticklabels": false
        }
       }
      }
     },
     "metadata": {},
     "output_type": "display_data"
    }
   ],
   "source": [
    "import plotly.express as px\n",
    "import plotly.graph_objects as go\n",
    "\n",
    "fig = go.Figure()\n",
    "\n",
    "fig.add_trace(go.Scatter(x=summary_df['timeframe'], y=summary_df['mileage'], \n",
    "                         mode='lines', name='Mileage', yaxis='y1'))\n",
    "\n",
    "fig.add_trace(go.Scatter(x=summary_df['timeframe'], y=summary_df['fuel'], \n",
    "                         mode='lines', name='Fuel Consumption', yaxis='y2', opacity=0.5))\n",
    "\n",
    "fig.add_trace(go.Scatter(x=summary_df['timeframe'], y=summary_df['distance (km)'], \n",
    "                         mode='lines', name='Distance Travelled', yaxis='y3',opacity=0.5))\n",
    "\n",
    "fig.add_trace(go.Scatter(x=summary_df['timeframe'], y=summary_df['coolant_temp'], \n",
    "                         mode='lines', name='Average Engine Coolant Temperature', yaxis='y4',opacity=0.5))\n",
    "\n",
    "fig.add_trace(go.Scatter(x=summary_df['timeframe'], y=summary_df['total_drive_time'], \n",
    "                         mode='lines', name='Total Driving Time', yaxis='y5'))\n",
    "\n",
    "fig.add_trace(go.Scatter(x=summary_df['timeframe'], y=summary_df['max_speed'], \n",
    "                         mode='lines', name='Maximum speed', yaxis='y6'))\n",
    "\n",
    "\n",
    "fig.update_layout(\n",
    "    title=f'Summary Data by {ch.capitalize()}',\n",
    "    xaxis=dict(title=ch.capitalize()),\n",
    "\n",
    "    yaxis=dict(\n",
    "        title=\"Mileage\",\n",
    "        titlefont=dict(color=\"blue\"),\n",
    "        tickfont=dict(color=\"blue\"),\n",
    "    ),\n",
    "\n",
    "    yaxis2=dict(\n",
    "        overlaying=\"y\",\n",
    "        showticklabels=False\n",
    "    ),\n",
    "    \n",
    "    yaxis3=dict(\n",
    "        overlaying=\"y\",\n",
    "        showticklabels=False\n",
    "    ),\n",
    "    \n",
    "    yaxis4=dict(\n",
    "        overlaying=\"y\",\n",
    "        showticklabels=False\n",
    "    ),\n",
    "\n",
    "    yaxis5=dict(\n",
    "        overlaying=\"y\",\n",
    "        showticklabels=False\n",
    "    ),\n",
    "    yaxis6=dict(\n",
    "        overlaying=\"y\",\n",
    "        showticklabels=False\n",
    "    ),\n",
    "\n",
    "    legend_title_text='Parameters'\n",
    ")\n",
    "\n",
    "print(summary_df)\n",
    "fig.show()\n"
   ]
  },
  {
   "cell_type": "markdown",
   "metadata": {},
   "source": [
    "Engine Overheat Plotting"
   ]
  },
  {
   "cell_type": "code",
   "execution_count": 5,
   "metadata": {},
   "outputs": [
    {
     "data": {
      "application/vnd.plotly.v1+json": {
       "config": {
        "plotlyServerURL": "https://plot.ly"
       },
       "data": [
        {
         "mode": "lines",
         "name": "Overheat",
         "type": "scatter",
         "x": [
          "2021-02-01T00:00:00",
          "2021-03-01T00:00:00",
          "2021-04-01T00:00:00",
          "2021-05-01T00:00:00",
          "2021-06-01T00:00:00",
          "2021-07-01T00:00:00",
          "2021-08-01T00:00:00",
          "2021-09-01T00:00:00",
          "2021-10-01T00:00:00",
          "2021-11-01T00:00:00",
          "2021-12-01T00:00:00"
         ],
         "y": [
          0.4,
          0.61,
          1.01,
          0.67,
          0.55,
          0.27,
          0.1,
          0.7,
          0.57,
          0.47,
          0.95
         ],
         "yaxis": "y"
        },
        {
         "mode": "lines",
         "name": "Distance",
         "opacity": 0.5,
         "type": "scatter",
         "x": [
          "2021-02-01T00:00:00",
          "2021-03-01T00:00:00",
          "2021-04-01T00:00:00",
          "2021-05-01T00:00:00",
          "2021-06-01T00:00:00",
          "2021-07-01T00:00:00",
          "2021-08-01T00:00:00",
          "2021-09-01T00:00:00",
          "2021-10-01T00:00:00",
          "2021-11-01T00:00:00",
          "2021-12-01T00:00:00"
         ],
         "y": [
          174.29,
          780.8,
          570.8,
          548.91,
          773.58,
          731.6,
          433.7,
          307.2,
          1609.87,
          776.32,
          749.81
         ],
         "yaxis": "y2"
        }
       ],
       "layout": {
        "legend": {
         "orientation": "h",
         "x": 0.5,
         "xanchor": "center",
         "y": -0.2,
         "yanchor": "top"
        },
        "template": {
         "data": {
          "bar": [
           {
            "error_x": {
             "color": "#2a3f5f"
            },
            "error_y": {
             "color": "#2a3f5f"
            },
            "marker": {
             "line": {
              "color": "#E5ECF6",
              "width": 0.5
             },
             "pattern": {
              "fillmode": "overlay",
              "size": 10,
              "solidity": 0.2
             }
            },
            "type": "bar"
           }
          ],
          "barpolar": [
           {
            "marker": {
             "line": {
              "color": "#E5ECF6",
              "width": 0.5
             },
             "pattern": {
              "fillmode": "overlay",
              "size": 10,
              "solidity": 0.2
             }
            },
            "type": "barpolar"
           }
          ],
          "carpet": [
           {
            "aaxis": {
             "endlinecolor": "#2a3f5f",
             "gridcolor": "white",
             "linecolor": "white",
             "minorgridcolor": "white",
             "startlinecolor": "#2a3f5f"
            },
            "baxis": {
             "endlinecolor": "#2a3f5f",
             "gridcolor": "white",
             "linecolor": "white",
             "minorgridcolor": "white",
             "startlinecolor": "#2a3f5f"
            },
            "type": "carpet"
           }
          ],
          "choropleth": [
           {
            "colorbar": {
             "outlinewidth": 0,
             "ticks": ""
            },
            "type": "choropleth"
           }
          ],
          "contour": [
           {
            "colorbar": {
             "outlinewidth": 0,
             "ticks": ""
            },
            "colorscale": [
             [
              0,
              "#0d0887"
             ],
             [
              0.1111111111111111,
              "#46039f"
             ],
             [
              0.2222222222222222,
              "#7201a8"
             ],
             [
              0.3333333333333333,
              "#9c179e"
             ],
             [
              0.4444444444444444,
              "#bd3786"
             ],
             [
              0.5555555555555556,
              "#d8576b"
             ],
             [
              0.6666666666666666,
              "#ed7953"
             ],
             [
              0.7777777777777778,
              "#fb9f3a"
             ],
             [
              0.8888888888888888,
              "#fdca26"
             ],
             [
              1,
              "#f0f921"
             ]
            ],
            "type": "contour"
           }
          ],
          "contourcarpet": [
           {
            "colorbar": {
             "outlinewidth": 0,
             "ticks": ""
            },
            "type": "contourcarpet"
           }
          ],
          "heatmap": [
           {
            "colorbar": {
             "outlinewidth": 0,
             "ticks": ""
            },
            "colorscale": [
             [
              0,
              "#0d0887"
             ],
             [
              0.1111111111111111,
              "#46039f"
             ],
             [
              0.2222222222222222,
              "#7201a8"
             ],
             [
              0.3333333333333333,
              "#9c179e"
             ],
             [
              0.4444444444444444,
              "#bd3786"
             ],
             [
              0.5555555555555556,
              "#d8576b"
             ],
             [
              0.6666666666666666,
              "#ed7953"
             ],
             [
              0.7777777777777778,
              "#fb9f3a"
             ],
             [
              0.8888888888888888,
              "#fdca26"
             ],
             [
              1,
              "#f0f921"
             ]
            ],
            "type": "heatmap"
           }
          ],
          "heatmapgl": [
           {
            "colorbar": {
             "outlinewidth": 0,
             "ticks": ""
            },
            "colorscale": [
             [
              0,
              "#0d0887"
             ],
             [
              0.1111111111111111,
              "#46039f"
             ],
             [
              0.2222222222222222,
              "#7201a8"
             ],
             [
              0.3333333333333333,
              "#9c179e"
             ],
             [
              0.4444444444444444,
              "#bd3786"
             ],
             [
              0.5555555555555556,
              "#d8576b"
             ],
             [
              0.6666666666666666,
              "#ed7953"
             ],
             [
              0.7777777777777778,
              "#fb9f3a"
             ],
             [
              0.8888888888888888,
              "#fdca26"
             ],
             [
              1,
              "#f0f921"
             ]
            ],
            "type": "heatmapgl"
           }
          ],
          "histogram": [
           {
            "marker": {
             "pattern": {
              "fillmode": "overlay",
              "size": 10,
              "solidity": 0.2
             }
            },
            "type": "histogram"
           }
          ],
          "histogram2d": [
           {
            "colorbar": {
             "outlinewidth": 0,
             "ticks": ""
            },
            "colorscale": [
             [
              0,
              "#0d0887"
             ],
             [
              0.1111111111111111,
              "#46039f"
             ],
             [
              0.2222222222222222,
              "#7201a8"
             ],
             [
              0.3333333333333333,
              "#9c179e"
             ],
             [
              0.4444444444444444,
              "#bd3786"
             ],
             [
              0.5555555555555556,
              "#d8576b"
             ],
             [
              0.6666666666666666,
              "#ed7953"
             ],
             [
              0.7777777777777778,
              "#fb9f3a"
             ],
             [
              0.8888888888888888,
              "#fdca26"
             ],
             [
              1,
              "#f0f921"
             ]
            ],
            "type": "histogram2d"
           }
          ],
          "histogram2dcontour": [
           {
            "colorbar": {
             "outlinewidth": 0,
             "ticks": ""
            },
            "colorscale": [
             [
              0,
              "#0d0887"
             ],
             [
              0.1111111111111111,
              "#46039f"
             ],
             [
              0.2222222222222222,
              "#7201a8"
             ],
             [
              0.3333333333333333,
              "#9c179e"
             ],
             [
              0.4444444444444444,
              "#bd3786"
             ],
             [
              0.5555555555555556,
              "#d8576b"
             ],
             [
              0.6666666666666666,
              "#ed7953"
             ],
             [
              0.7777777777777778,
              "#fb9f3a"
             ],
             [
              0.8888888888888888,
              "#fdca26"
             ],
             [
              1,
              "#f0f921"
             ]
            ],
            "type": "histogram2dcontour"
           }
          ],
          "mesh3d": [
           {
            "colorbar": {
             "outlinewidth": 0,
             "ticks": ""
            },
            "type": "mesh3d"
           }
          ],
          "parcoords": [
           {
            "line": {
             "colorbar": {
              "outlinewidth": 0,
              "ticks": ""
             }
            },
            "type": "parcoords"
           }
          ],
          "pie": [
           {
            "automargin": true,
            "type": "pie"
           }
          ],
          "scatter": [
           {
            "fillpattern": {
             "fillmode": "overlay",
             "size": 10,
             "solidity": 0.2
            },
            "type": "scatter"
           }
          ],
          "scatter3d": [
           {
            "line": {
             "colorbar": {
              "outlinewidth": 0,
              "ticks": ""
             }
            },
            "marker": {
             "colorbar": {
              "outlinewidth": 0,
              "ticks": ""
             }
            },
            "type": "scatter3d"
           }
          ],
          "scattercarpet": [
           {
            "marker": {
             "colorbar": {
              "outlinewidth": 0,
              "ticks": ""
             }
            },
            "type": "scattercarpet"
           }
          ],
          "scattergeo": [
           {
            "marker": {
             "colorbar": {
              "outlinewidth": 0,
              "ticks": ""
             }
            },
            "type": "scattergeo"
           }
          ],
          "scattergl": [
           {
            "marker": {
             "colorbar": {
              "outlinewidth": 0,
              "ticks": ""
             }
            },
            "type": "scattergl"
           }
          ],
          "scattermapbox": [
           {
            "marker": {
             "colorbar": {
              "outlinewidth": 0,
              "ticks": ""
             }
            },
            "type": "scattermapbox"
           }
          ],
          "scatterpolar": [
           {
            "marker": {
             "colorbar": {
              "outlinewidth": 0,
              "ticks": ""
             }
            },
            "type": "scatterpolar"
           }
          ],
          "scatterpolargl": [
           {
            "marker": {
             "colorbar": {
              "outlinewidth": 0,
              "ticks": ""
             }
            },
            "type": "scatterpolargl"
           }
          ],
          "scatterternary": [
           {
            "marker": {
             "colorbar": {
              "outlinewidth": 0,
              "ticks": ""
             }
            },
            "type": "scatterternary"
           }
          ],
          "surface": [
           {
            "colorbar": {
             "outlinewidth": 0,
             "ticks": ""
            },
            "colorscale": [
             [
              0,
              "#0d0887"
             ],
             [
              0.1111111111111111,
              "#46039f"
             ],
             [
              0.2222222222222222,
              "#7201a8"
             ],
             [
              0.3333333333333333,
              "#9c179e"
             ],
             [
              0.4444444444444444,
              "#bd3786"
             ],
             [
              0.5555555555555556,
              "#d8576b"
             ],
             [
              0.6666666666666666,
              "#ed7953"
             ],
             [
              0.7777777777777778,
              "#fb9f3a"
             ],
             [
              0.8888888888888888,
              "#fdca26"
             ],
             [
              1,
              "#f0f921"
             ]
            ],
            "type": "surface"
           }
          ],
          "table": [
           {
            "cells": {
             "fill": {
              "color": "#EBF0F8"
             },
             "line": {
              "color": "white"
             }
            },
            "header": {
             "fill": {
              "color": "#C8D4E3"
             },
             "line": {
              "color": "white"
             }
            },
            "type": "table"
           }
          ]
         },
         "layout": {
          "annotationdefaults": {
           "arrowcolor": "#2a3f5f",
           "arrowhead": 0,
           "arrowwidth": 1
          },
          "autotypenumbers": "strict",
          "coloraxis": {
           "colorbar": {
            "outlinewidth": 0,
            "ticks": ""
           }
          },
          "colorscale": {
           "diverging": [
            [
             0,
             "#8e0152"
            ],
            [
             0.1,
             "#c51b7d"
            ],
            [
             0.2,
             "#de77ae"
            ],
            [
             0.3,
             "#f1b6da"
            ],
            [
             0.4,
             "#fde0ef"
            ],
            [
             0.5,
             "#f7f7f7"
            ],
            [
             0.6,
             "#e6f5d0"
            ],
            [
             0.7,
             "#b8e186"
            ],
            [
             0.8,
             "#7fbc41"
            ],
            [
             0.9,
             "#4d9221"
            ],
            [
             1,
             "#276419"
            ]
           ],
           "sequential": [
            [
             0,
             "#0d0887"
            ],
            [
             0.1111111111111111,
             "#46039f"
            ],
            [
             0.2222222222222222,
             "#7201a8"
            ],
            [
             0.3333333333333333,
             "#9c179e"
            ],
            [
             0.4444444444444444,
             "#bd3786"
            ],
            [
             0.5555555555555556,
             "#d8576b"
            ],
            [
             0.6666666666666666,
             "#ed7953"
            ],
            [
             0.7777777777777778,
             "#fb9f3a"
            ],
            [
             0.8888888888888888,
             "#fdca26"
            ],
            [
             1,
             "#f0f921"
            ]
           ],
           "sequentialminus": [
            [
             0,
             "#0d0887"
            ],
            [
             0.1111111111111111,
             "#46039f"
            ],
            [
             0.2222222222222222,
             "#7201a8"
            ],
            [
             0.3333333333333333,
             "#9c179e"
            ],
            [
             0.4444444444444444,
             "#bd3786"
            ],
            [
             0.5555555555555556,
             "#d8576b"
            ],
            [
             0.6666666666666666,
             "#ed7953"
            ],
            [
             0.7777777777777778,
             "#fb9f3a"
            ],
            [
             0.8888888888888888,
             "#fdca26"
            ],
            [
             1,
             "#f0f921"
            ]
           ]
          },
          "colorway": [
           "#636efa",
           "#EF553B",
           "#00cc96",
           "#ab63fa",
           "#FFA15A",
           "#19d3f3",
           "#FF6692",
           "#B6E880",
           "#FF97FF",
           "#FECB52"
          ],
          "font": {
           "color": "#2a3f5f"
          },
          "geo": {
           "bgcolor": "white",
           "lakecolor": "white",
           "landcolor": "#E5ECF6",
           "showlakes": true,
           "showland": true,
           "subunitcolor": "white"
          },
          "hoverlabel": {
           "align": "left"
          },
          "hovermode": "closest",
          "mapbox": {
           "style": "light"
          },
          "paper_bgcolor": "white",
          "plot_bgcolor": "#E5ECF6",
          "polar": {
           "angularaxis": {
            "gridcolor": "white",
            "linecolor": "white",
            "ticks": ""
           },
           "bgcolor": "#E5ECF6",
           "radialaxis": {
            "gridcolor": "white",
            "linecolor": "white",
            "ticks": ""
           }
          },
          "scene": {
           "xaxis": {
            "backgroundcolor": "#E5ECF6",
            "gridcolor": "white",
            "gridwidth": 2,
            "linecolor": "white",
            "showbackground": true,
            "ticks": "",
            "zerolinecolor": "white"
           },
           "yaxis": {
            "backgroundcolor": "#E5ECF6",
            "gridcolor": "white",
            "gridwidth": 2,
            "linecolor": "white",
            "showbackground": true,
            "ticks": "",
            "zerolinecolor": "white"
           },
           "zaxis": {
            "backgroundcolor": "#E5ECF6",
            "gridcolor": "white",
            "gridwidth": 2,
            "linecolor": "white",
            "showbackground": true,
            "ticks": "",
            "zerolinecolor": "white"
           }
          },
          "shapedefaults": {
           "line": {
            "color": "#2a3f5f"
           }
          },
          "ternary": {
           "aaxis": {
            "gridcolor": "white",
            "linecolor": "white",
            "ticks": ""
           },
           "baxis": {
            "gridcolor": "white",
            "linecolor": "white",
            "ticks": ""
           },
           "bgcolor": "#E5ECF6",
           "caxis": {
            "gridcolor": "white",
            "linecolor": "white",
            "ticks": ""
           }
          },
          "title": {
           "x": 0.05
          },
          "xaxis": {
           "automargin": true,
           "gridcolor": "white",
           "linecolor": "white",
           "ticks": "",
           "title": {
            "standoff": 15
           },
           "zerolinecolor": "white",
           "zerolinewidth": 2
          },
          "yaxis": {
           "automargin": true,
           "gridcolor": "white",
           "linecolor": "white",
           "ticks": "",
           "title": {
            "standoff": 15
           },
           "zerolinecolor": "white",
           "zerolinewidth": 2
          }
         }
        },
        "title": {
         "text": "Engine Overheat Percentage by Month"
        },
        "xaxis": {
         "title": {
          "text": "Month"
         }
        },
        "yaxis": {
         "tickfont": {
          "color": "blue"
         },
         "title": {
          "font": {
           "color": "blue"
          },
          "text": "Overheat"
         }
        },
        "yaxis2": {
         "overlaying": "y",
         "side": "right",
         "title": {
          "text": "Distance"
         }
        }
       }
      }
     },
     "metadata": {},
     "output_type": "display_data"
    }
   ],
   "source": [
    "import plotly.express as px\n",
    "import plotly.graph_objects as go\n",
    "\n",
    "fig = go.Figure()\n",
    "\n",
    "fig.add_trace(go.Scatter(x=summary_df['timeframe'], y=summary_df['engine_overheat'], \n",
    "                         mode='lines', name='Overheat', yaxis='y1'))\n",
    "\n",
    "fig.add_trace(go.Scatter(x=summary_df['timeframe'], y=summary_df['distance (km)'], \n",
    "                         mode='lines', name='Distance', yaxis='y2', opacity=0.5))\n",
    "\n",
    "fig.update_layout(\n",
    "    title=f'Engine Overheat Percentage by {ch.capitalize()}',\n",
    "    xaxis=dict(title=ch.capitalize()),\n",
    "\n",
    "    yaxis=dict(\n",
    "        title=\"Overheat\",\n",
    "        titlefont=dict(color=\"blue\"),\n",
    "        tickfont=dict(color=\"blue\"),\n",
    "    ),\n",
    "\n",
    "    yaxis2=dict(\n",
    "        title=\"Distance\",\n",
    "        overlaying=\"y\",\n",
    "        side=\"right\"\n",
    "    ),\n",
    "    legend=dict(\n",
    "        x=0.5,\n",
    "        y=-0.2,\n",
    "        orientation=\"h\",\n",
    "        xanchor=\"center\",\n",
    "        yanchor=\"top\",\n",
    "    ),\n",
    ")\n",
    "\n",
    "fig.show()"
   ]
  },
  {
   "cell_type": "markdown",
   "metadata": {},
   "source": [
    "Troubleshooting the issue in october data  \n",
    "Don't run this cell\n"
   ]
  },
  {
   "cell_type": "code",
   "execution_count": 6,
   "metadata": {},
   "outputs": [
    {
     "name": "stdout",
     "output_type": "stream",
     "text": [
      "23550\n",
      "0\n",
      "6 1026\n",
      "7 1800\n",
      "8 1629\n",
      "9 1219\n",
      "10 1234\n",
      "11 1459\n",
      "12 1800\n",
      "13 1794\n",
      "14 978\n",
      "15 1071\n",
      "16 1730\n",
      "17 1747\n",
      "18 1575\n",
      "19 884\n",
      "20 560\n",
      "21 1800\n",
      "22 1244\n"
     ]
    }
   ],
   "source": [
    "# start = '01-10-2021'\n",
    "# end = '31-10-2021 23:59:59'\n",
    "\n",
    "# start_date = datetime.strptime(start, \"%d-%m-%Y\")\n",
    "# end_date = datetime.strptime(end, \"%d-%m-%Y %H:%M:%S\")\n",
    "\n",
    "# df_10 = df[(df['time_stamp'] >= start_date) & (df['time_stamp'] <= end_date)]\n",
    "# print(len(df_10))\n",
    "\n",
    "\n",
    "# #checking for duplicate entries\n",
    "# print(df_10.duplicated(subset=['bulk_id']).sum())  #it shows zero\n",
    "\n",
    "# print(df_10.duplicated(subset=['time_stamp']).sum())\n",
    "\n",
    "\n",
    "# #deleting the duplicated entries keeping the first occurance\n",
    "# df_10 = df_10.drop_duplicates(subset=['time_stamp'], keep='first')\n",
    "# print(len(df_10))\n",
    "\n",
    "# #checking if there's other duplicate entries in the dataframe\n",
    "# print('All Year Dataframe')\n",
    "# print(len(df))\n",
    "# print(df.duplicated(subset=['bulk_id']).sum())\n",
    "\n",
    "# print(df.duplicated(subset=['time_stamp']).sum())\n",
    "\n",
    "# print(df_10['distance (km)'].describe())\n",
    "# print(df_10['fuel_consumption (liters)'].describe())\n",
    "\n",
    "\n",
    "#October 10 , 2021 has too many readings\n",
    "start = '10-10-2021'\n",
    "end = '10-10-2021 23:59:59'\n",
    "\n",
    "start_date = datetime.strptime(start, \"%d-%m-%Y\")\n",
    "end_date = datetime.strptime(end, \"%d-%m-%Y %H:%M:%S\")\n",
    "\n",
    "df_10_10_2021 = df[(df['time_stamp'] >= start_date) & (df['time_stamp'] <= end_date)].copy()\n",
    "print(len(df_10_10_2021))\n",
    "\n",
    "print(df_10_10_2021['time_stamp'].duplicated().sum()) #no duplicates\n",
    "df_10_10_2021['hour'] = df_10_10_2021['time_stamp'].dt.hour\n",
    "for idx, group in df_10_10_2021.groupby('hour'):\n",
    "    print(idx, len(group))\n",
    "\n",
    "\n",
    "#can't find any pattern"
   ]
  }
 ],
 "metadata": {
  "kernelspec": {
   "display_name": "Python 3",
   "language": "python",
   "name": "python3"
  },
  "language_info": {
   "codemirror_mode": {
    "name": "ipython",
    "version": 3
   },
   "file_extension": ".py",
   "mimetype": "text/x-python",
   "name": "python",
   "nbconvert_exporter": "python",
   "pygments_lexer": "ipython3",
   "version": "3.12.6"
  }
 },
 "nbformat": 4,
 "nbformat_minor": 2
}
