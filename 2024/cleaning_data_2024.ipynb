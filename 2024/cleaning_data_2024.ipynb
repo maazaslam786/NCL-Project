{
 "cells": [
  {
   "cell_type": "markdown",
   "metadata": {},
   "source": [
    "Importing Libraries"
   ]
  },
  {
   "cell_type": "code",
   "execution_count": 91,
   "metadata": {},
   "outputs": [],
   "source": [
    "import pandas as pd\n",
    "import numpy as np\n",
    "from datetime import datetime"
   ]
  },
  {
   "cell_type": "markdown",
   "metadata": {},
   "source": [
    "Importing Dataset"
   ]
  },
  {
   "cell_type": "code",
   "execution_count": 92,
   "metadata": {},
   "outputs": [
    {
     "data": {
      "text/html": [
       "<div>\n",
       "<style scoped>\n",
       "    .dataframe tbody tr th:only-of-type {\n",
       "        vertical-align: middle;\n",
       "    }\n",
       "\n",
       "    .dataframe tbody tr th {\n",
       "        vertical-align: top;\n",
       "    }\n",
       "\n",
       "    .dataframe thead th {\n",
       "        text-align: right;\n",
       "    }\n",
       "</style>\n",
       "<table border=\"1\" class=\"dataframe\">\n",
       "  <thead>\n",
       "    <tr style=\"text-align: right;\">\n",
       "      <th></th>\n",
       "      <th>car_reg_no</th>\n",
       "      <th>vehicle_speed</th>\n",
       "      <th>heading</th>\n",
       "      <th>distance</th>\n",
       "      <th>altitude</th>\n",
       "      <th>o_s1_b1_voltage</th>\n",
       "      <th>o_s2_b2_voltage</th>\n",
       "      <th>o_s1_current</th>\n",
       "      <th>calculated_engine_load</th>\n",
       "      <th>engine_rpm</th>\n",
       "      <th>...</th>\n",
       "      <th>egr_error</th>\n",
       "      <th>absolute_barometric_pressure</th>\n",
       "      <th>engine_coolant_temperature</th>\n",
       "      <th>intake_air_temperature</th>\n",
       "      <th>catalyst_temperature_b1_s1</th>\n",
       "      <th>catalyst_temperature_b1_s2</th>\n",
       "      <th>ambient_air_temperature</th>\n",
       "      <th>time_stamp</th>\n",
       "      <th>latitude</th>\n",
       "      <th>longitude</th>\n",
       "    </tr>\n",
       "    <tr>\n",
       "      <th>bulk_id</th>\n",
       "      <th></th>\n",
       "      <th></th>\n",
       "      <th></th>\n",
       "      <th></th>\n",
       "      <th></th>\n",
       "      <th></th>\n",
       "      <th></th>\n",
       "      <th></th>\n",
       "      <th></th>\n",
       "      <th></th>\n",
       "      <th></th>\n",
       "      <th></th>\n",
       "      <th></th>\n",
       "      <th></th>\n",
       "      <th></th>\n",
       "      <th></th>\n",
       "      <th></th>\n",
       "      <th></th>\n",
       "      <th></th>\n",
       "      <th></th>\n",
       "      <th></th>\n",
       "    </tr>\n",
       "  </thead>\n",
       "  <tbody>\n",
       "    <tr>\n",
       "      <th>285444</th>\n",
       "      <td>113</td>\n",
       "      <td>0.0</td>\n",
       "      <td>0.0</td>\n",
       "      <td>NaN</td>\n",
       "      <td>0.0</td>\n",
       "      <td>NaN</td>\n",
       "      <td>NaN</td>\n",
       "      <td>0.0</td>\n",
       "      <td>NaN</td>\n",
       "      <td>NaN</td>\n",
       "      <td>...</td>\n",
       "      <td>NaN</td>\n",
       "      <td>NaN</td>\n",
       "      <td>0.0</td>\n",
       "      <td>0.0</td>\n",
       "      <td>0.0</td>\n",
       "      <td>0.0</td>\n",
       "      <td>0.0</td>\n",
       "      <td>2021-02-05 11:05:07</td>\n",
       "      <td>0.0</td>\n",
       "      <td>0.0</td>\n",
       "    </tr>\n",
       "    <tr>\n",
       "      <th>285447</th>\n",
       "      <td>113</td>\n",
       "      <td>0.0</td>\n",
       "      <td>0.0</td>\n",
       "      <td>NaN</td>\n",
       "      <td>0.0</td>\n",
       "      <td>NaN</td>\n",
       "      <td>NaN</td>\n",
       "      <td>0.0</td>\n",
       "      <td>NaN</td>\n",
       "      <td>NaN</td>\n",
       "      <td>...</td>\n",
       "      <td>NaN</td>\n",
       "      <td>NaN</td>\n",
       "      <td>0.0</td>\n",
       "      <td>0.0</td>\n",
       "      <td>0.0</td>\n",
       "      <td>0.0</td>\n",
       "      <td>0.0</td>\n",
       "      <td>2021-02-05 11:05:09</td>\n",
       "      <td>0.0</td>\n",
       "      <td>0.0</td>\n",
       "    </tr>\n",
       "    <tr>\n",
       "      <th>285450</th>\n",
       "      <td>113</td>\n",
       "      <td>0.0</td>\n",
       "      <td>0.0</td>\n",
       "      <td>NaN</td>\n",
       "      <td>0.0</td>\n",
       "      <td>NaN</td>\n",
       "      <td>NaN</td>\n",
       "      <td>0.0</td>\n",
       "      <td>NaN</td>\n",
       "      <td>NaN</td>\n",
       "      <td>...</td>\n",
       "      <td>NaN</td>\n",
       "      <td>NaN</td>\n",
       "      <td>0.0</td>\n",
       "      <td>0.0</td>\n",
       "      <td>0.0</td>\n",
       "      <td>0.0</td>\n",
       "      <td>0.0</td>\n",
       "      <td>2021-02-05 11:05:11</td>\n",
       "      <td>0.0</td>\n",
       "      <td>0.0</td>\n",
       "    </tr>\n",
       "    <tr>\n",
       "      <th>285453</th>\n",
       "      <td>113</td>\n",
       "      <td>0.0</td>\n",
       "      <td>0.0</td>\n",
       "      <td>NaN</td>\n",
       "      <td>0.0</td>\n",
       "      <td>NaN</td>\n",
       "      <td>NaN</td>\n",
       "      <td>0.0</td>\n",
       "      <td>NaN</td>\n",
       "      <td>NaN</td>\n",
       "      <td>...</td>\n",
       "      <td>NaN</td>\n",
       "      <td>NaN</td>\n",
       "      <td>0.0</td>\n",
       "      <td>0.0</td>\n",
       "      <td>0.0</td>\n",
       "      <td>0.0</td>\n",
       "      <td>0.0</td>\n",
       "      <td>2021-02-05 11:05:15</td>\n",
       "      <td>0.0</td>\n",
       "      <td>0.0</td>\n",
       "    </tr>\n",
       "    <tr>\n",
       "      <th>285456</th>\n",
       "      <td>113</td>\n",
       "      <td>0.0</td>\n",
       "      <td>0.0</td>\n",
       "      <td>NaN</td>\n",
       "      <td>0.0</td>\n",
       "      <td>NaN</td>\n",
       "      <td>NaN</td>\n",
       "      <td>0.0</td>\n",
       "      <td>NaN</td>\n",
       "      <td>NaN</td>\n",
       "      <td>...</td>\n",
       "      <td>NaN</td>\n",
       "      <td>NaN</td>\n",
       "      <td>0.0</td>\n",
       "      <td>0.0</td>\n",
       "      <td>0.0</td>\n",
       "      <td>0.0</td>\n",
       "      <td>0.0</td>\n",
       "      <td>2021-02-05 11:05:17</td>\n",
       "      <td>0.0</td>\n",
       "      <td>0.0</td>\n",
       "    </tr>\n",
       "  </tbody>\n",
       "</table>\n",
       "<p>5 rows × 40 columns</p>\n",
       "</div>"
      ],
      "text/plain": [
       "         car_reg_no  vehicle_speed  heading  distance  altitude  \\\n",
       "bulk_id                                                           \n",
       "285444          113            0.0      0.0       NaN       0.0   \n",
       "285447          113            0.0      0.0       NaN       0.0   \n",
       "285450          113            0.0      0.0       NaN       0.0   \n",
       "285453          113            0.0      0.0       NaN       0.0   \n",
       "285456          113            0.0      0.0       NaN       0.0   \n",
       "\n",
       "         o_s1_b1_voltage  o_s2_b2_voltage  o_s1_current  \\\n",
       "bulk_id                                                   \n",
       "285444               NaN              NaN           0.0   \n",
       "285447               NaN              NaN           0.0   \n",
       "285450               NaN              NaN           0.0   \n",
       "285453               NaN              NaN           0.0   \n",
       "285456               NaN              NaN           0.0   \n",
       "\n",
       "         calculated_engine_load  engine_rpm  ...  egr_error  \\\n",
       "bulk_id                                      ...              \n",
       "285444                      NaN         NaN  ...        NaN   \n",
       "285447                      NaN         NaN  ...        NaN   \n",
       "285450                      NaN         NaN  ...        NaN   \n",
       "285453                      NaN         NaN  ...        NaN   \n",
       "285456                      NaN         NaN  ...        NaN   \n",
       "\n",
       "         absolute_barometric_pressure  engine_coolant_temperature  \\\n",
       "bulk_id                                                             \n",
       "285444                            NaN                         0.0   \n",
       "285447                            NaN                         0.0   \n",
       "285450                            NaN                         0.0   \n",
       "285453                            NaN                         0.0   \n",
       "285456                            NaN                         0.0   \n",
       "\n",
       "         intake_air_temperature  catalyst_temperature_b1_s1  \\\n",
       "bulk_id                                                       \n",
       "285444                      0.0                         0.0   \n",
       "285447                      0.0                         0.0   \n",
       "285450                      0.0                         0.0   \n",
       "285453                      0.0                         0.0   \n",
       "285456                      0.0                         0.0   \n",
       "\n",
       "         catalyst_temperature_b1_s2  ambient_air_temperature  \\\n",
       "bulk_id                                                        \n",
       "285444                          0.0                      0.0   \n",
       "285447                          0.0                      0.0   \n",
       "285450                          0.0                      0.0   \n",
       "285453                          0.0                      0.0   \n",
       "285456                          0.0                      0.0   \n",
       "\n",
       "                 time_stamp  latitude  longitude  \n",
       "bulk_id                                           \n",
       "285444  2021-02-05 11:05:07       0.0        0.0  \n",
       "285447  2021-02-05 11:05:09       0.0        0.0  \n",
       "285450  2021-02-05 11:05:11       0.0        0.0  \n",
       "285453  2021-02-05 11:05:15       0.0        0.0  \n",
       "285456  2021-02-05 11:05:17       0.0        0.0  \n",
       "\n",
       "[5 rows x 40 columns]"
      ]
     },
     "execution_count": 92,
     "metadata": {},
     "output_type": "execute_result"
    }
   ],
   "source": [
    "dataframes = []\n",
    "for i in range(1,13):\n",
    "    if i==6:\n",
    "        continue\n",
    "    \n",
    "    if i != 4:\n",
    "        df = pd.read_csv(f'{i}_2024_113.csv', index_col=0)\n",
    "    else:\n",
    "        df = pd.read_csv('2_2024_to_4_2024_113.csv', index_col=0)\n",
    "\n",
    "    df.index.name = 'bulk_id'\n",
    "    df['time_stamp'] = df['time_stamp'].str.replace('T',' ')\n",
    "    df['time_stamp'] = pd.to_datetime(df['time_stamp'])\n",
    "    dataframes.append(df)\n",
    "\n",
    "df = pd.concat(dataframes, verify_integrity=True)\n",
    "df = df.sort_values(by='time_stamp', ascending=True)\n",
    "df.head()"
   ]
  },
  {
   "cell_type": "markdown",
   "metadata": {},
   "source": [
    "Dropping the null values"
   ]
  },
  {
   "cell_type": "code",
   "execution_count": 93,
   "metadata": {},
   "outputs": [
    {
     "name": "stdout",
     "output_type": "stream",
     "text": [
      "count    702207.000000\n",
      "mean         14.276346\n",
      "std           0.808520\n",
      "min           7.299800\n",
      "25%          14.123500\n",
      "50%          14.700000\n",
      "75%          14.700000\n",
      "max          15.234700\n",
      "Name: o_s1_b1_fuel_air_equivalence_ratio, dtype: float64\n",
      "count    701891.0\n",
      "mean          0.0\n",
      "std           0.0\n",
      "min           0.0\n",
      "25%           0.0\n",
      "50%           0.0\n",
      "75%           0.0\n",
      "max           0.0\n",
      "Name: o_s1_b1_fuelair_equivalence_ratio, dtype: float64\n"
     ]
    }
   ],
   "source": [
    "df = df.dropna(axis=1, how='all') #dropping the columns which contains all null values\n",
    "\n",
    "# #repeated columns which one to keep?\n",
    "print(df['o_s1_b1_fuel_air_equivalence_ratio'].describe())\n",
    "print(df['o_s1_b1_fuelair_equivalence_ratio'].describe()) #contains all zeros so removing it"
   ]
  },
  {
   "cell_type": "markdown",
   "metadata": {},
   "source": [
    "Dropping repeated column"
   ]
  },
  {
   "cell_type": "code",
   "execution_count": 94,
   "metadata": {},
   "outputs": [],
   "source": [
    "df = df.drop('o_s1_b1_fuelair_equivalence_ratio',axis=1)"
   ]
  },
  {
   "cell_type": "markdown",
   "metadata": {},
   "source": [
    "Removing null values"
   ]
  },
  {
   "cell_type": "code",
   "execution_count": 95,
   "metadata": {},
   "outputs": [
    {
     "name": "stdout",
     "output_type": "stream",
     "text": [
      "car_reg_no                                 0\n",
      "vehicle_speed                              0\n",
      "heading                                    0\n",
      "altitude                                   0\n",
      "o_s1_b1_voltage                       759651\n",
      "o_s2_b2_voltage                        52425\n",
      "o_s1_current                           93601\n",
      "calculated_engine_load                 53236\n",
      "engine_rpm                             53865\n",
      "spark_advance                          54527\n",
      "absolute_load_value                    98848\n",
      "throttle_position                      55105\n",
      "relative_throttle_position             55330\n",
      "absolute_throttle_position             99486\n",
      "ap_pos_d                               99992\n",
      "ap_pos_e                              100314\n",
      "commanded_evaporative_purge            56646\n",
      "o_s1_b1_fuel_air_equivalence_ratio    100854\n",
      "short_term_fuel_trim_b1                 6598\n",
      "long_term_fuel_trim_b1                  6598\n",
      "intake_manifold_absolute_pressure     759719\n",
      "mass_air_flow_rate                     58522\n",
      "absolute_barometric_pressure           58717\n",
      "engine_coolant_temperature              6598\n",
      "intake_air_temperature                  7835\n",
      "catalyst_temperature_b1_s1             51247\n",
      "catalyst_temperature_b1_s2             51247\n",
      "ambient_air_temperature                51247\n",
      "time_stamp                                 0\n",
      "latitude                                   0\n",
      "longitude                                  0\n",
      "dtype: int64\n",
      "Data after filling the engine off readings\n"
     ]
    },
    {
     "data": {
      "text/plain": [
       "car_reg_no                                 0\n",
       "vehicle_speed                              0\n",
       "heading                                    0\n",
       "altitude                                   0\n",
       "o_s1_b1_voltage                       698366\n",
       "o_s2_b2_voltage                           27\n",
       "o_s1_current                             642\n",
       "calculated_engine_load                     0\n",
       "engine_rpm                                 0\n",
       "spark_advance                            662\n",
       "absolute_load_value                     1700\n",
       "throttle_position                       1240\n",
       "relative_throttle_position              1458\n",
       "absolute_throttle_position              2324\n",
       "ap_pos_d                                2826\n",
       "ap_pos_e                                3145\n",
       "commanded_evaporative_purge             2756\n",
       "o_s1_b1_fuel_air_equivalence_ratio      3674\n",
       "short_term_fuel_trim_b1                    0\n",
       "long_term_fuel_trim_b1                     0\n",
       "intake_manifold_absolute_pressure     698397\n",
       "mass_air_flow_rate                      4604\n",
       "absolute_barometric_pressure            4799\n",
       "engine_coolant_temperature                 0\n",
       "intake_air_temperature                     0\n",
       "catalyst_temperature_b1_s1               540\n",
       "catalyst_temperature_b1_s2               540\n",
       "ambient_air_temperature                  540\n",
       "time_stamp                                 0\n",
       "latitude                                   0\n",
       "longitude                                  0\n",
       "dtype: int64"
      ]
     },
     "execution_count": 95,
     "metadata": {},
     "output_type": "execute_result"
    }
   ],
   "source": [
    "print(df.isna().sum())\n",
    "\n",
    "df['engine_rpm'] = df['engine_rpm'].fillna(0) #filling the null values with zero as we observed that when engine_rpm was null vehicle_speed was 0/null and other values were also null, so the engine would be turned off\n",
    "\n",
    "df[df['engine_rpm']==0] = df[df['engine_rpm']==0].fillna(0) #when engine is turned off all other components are also turned off\n",
    "\n",
    "print('Data after filling the engine off readings')\n",
    "df.isna().sum()"
   ]
  },
  {
   "cell_type": "markdown",
   "metadata": {},
   "source": [
    "Removing remaining null values"
   ]
  },
  {
   "cell_type": "code",
   "execution_count": 96,
   "metadata": {},
   "outputs": [
    {
     "name": "stdout",
     "output_type": "stream",
     "text": [
      "[ 0. nan]\n",
      "[ 0. nan]\n",
      "[ 0. nan]\n",
      "\n",
      "Cleaned Data:\n",
      "car_reg_no                            0\n",
      "vehicle_speed                         0\n",
      "heading                               0\n",
      "altitude                              0\n",
      "o_s1_b1_voltage                       0\n",
      "o_s2_b2_voltage                       0\n",
      "calculated_engine_load                0\n",
      "engine_rpm                            0\n",
      "spark_advance                         0\n",
      "absolute_load_value                   0\n",
      "throttle_position                     0\n",
      "relative_throttle_position            0\n",
      "absolute_throttle_position            0\n",
      "ap_pos_d                              0\n",
      "ap_pos_e                              0\n",
      "commanded_evaporative_purge           0\n",
      "o_s1_b1_fuel_air_equivalence_ratio    0\n",
      "short_term_fuel_trim_b1               0\n",
      "long_term_fuel_trim_b1                0\n",
      "intake_manifold_absolute_pressure     0\n",
      "mass_air_flow_rate                    0\n",
      "absolute_barometric_pressure          0\n",
      "engine_coolant_temperature            0\n",
      "intake_air_temperature                0\n",
      "ambient_air_temperature               0\n",
      "time_stamp                            0\n",
      "latitude                              0\n",
      "longitude                             0\n",
      "dtype: int64\n",
      "No. of rows: 803061\n"
     ]
    }
   ],
   "source": [
    "df.fillna(df[df!=0].mean(),inplace=True) #replacing null values with mean value\n",
    "\n",
    "print(df['o_s1_current'].unique()) #all zeros\n",
    "print(df['catalyst_temperature_b1_s1'].unique()) #all zeros\n",
    "print(df['catalyst_temperature_b1_s2'].unique()) #all zeros\n",
    "\n",
    "# #dropping the columns\n",
    "df = df.drop(['o_s1_current','catalyst_temperature_b1_s1','catalyst_temperature_b1_s2'], axis=1)\n",
    "\n",
    "print('\\nCleaned Data:')\n",
    "print(df.isna().sum())\n",
    "print('No. of rows:',len(df))"
   ]
  },
  {
   "cell_type": "markdown",
   "metadata": {},
   "source": [
    "Filtering for 2024 data"
   ]
  },
  {
   "cell_type": "code",
   "execution_count": 97,
   "metadata": {},
   "outputs": [
    {
     "name": "stdout",
     "output_type": "stream",
     "text": [
      "2024-01-01 08:44:34\n",
      "2024-12-28 23:48:39\n",
      "No. of rows: 639483\n"
     ]
    }
   ],
   "source": [
    "df = df.sort_values(by='time_stamp')\n",
    "start = pd.to_datetime('2024-01-01 00:00:00')\n",
    "end = pd.to_datetime('2024-12-31 23:59:59')\n",
    "\n",
    "df = df[(df['time_stamp'] >= start) & (df['time_stamp']<=end)]\n",
    "\n",
    "print(df['time_stamp'].iloc[0])\n",
    "print(df['time_stamp'].iloc[-1])\n",
    "print('No. of rows:',len(df))"
   ]
  },
  {
   "cell_type": "markdown",
   "metadata": {},
   "source": [
    "Checking for duplicate values"
   ]
  },
  {
   "cell_type": "code",
   "execution_count": 98,
   "metadata": {},
   "outputs": [
    {
     "name": "stdout",
     "output_type": "stream",
     "text": [
      "No. of duplicate values in each column\n"
     ]
    },
    {
     "data": {
      "text/plain": [
       "car_reg_no                            639482\n",
       "vehicle_speed                         639362\n",
       "heading                               598475\n",
       "altitude                              637459\n",
       "o_s1_b1_voltage                       639332\n",
       "o_s2_b2_voltage                       639362\n",
       "calculated_engine_load                639269\n",
       "engine_rpm                            636845\n",
       "spark_advance                         639331\n",
       "absolute_load_value                   639307\n",
       "throttle_position                     639316\n",
       "relative_throttle_position            639328\n",
       "absolute_throttle_position            639339\n",
       "ap_pos_d                              639374\n",
       "ap_pos_e                              639372\n",
       "commanded_evaporative_purge           639236\n",
       "o_s1_b1_fuel_air_equivalence_ratio    638915\n",
       "short_term_fuel_trim_b1               639427\n",
       "long_term_fuel_trim_b1                639444\n",
       "intake_manifold_absolute_pressure     639414\n",
       "mass_air_flow_rate                    636978\n",
       "absolute_barometric_pressure          639477\n",
       "engine_coolant_temperature            639396\n",
       "intake_air_temperature                639421\n",
       "ambient_air_temperature               639445\n",
       "time_stamp                            224434\n",
       "latitude                              619415\n",
       "longitude                             628898\n",
       "dtype: int64"
      ]
     },
     "execution_count": 98,
     "metadata": {},
     "output_type": "execute_result"
    }
   ],
   "source": [
    "duplicate = {}\n",
    "for column in df.columns:\n",
    "    duplicate[column] = df[column].duplicated()\n",
    "\n",
    "duplicate = pd.DataFrame(duplicate)\n",
    "print('No. of duplicate values in each column')\n",
    "duplicate.sum()"
   ]
  },
  {
   "cell_type": "markdown",
   "metadata": {},
   "source": [
    "Analyzing duplicated time stamp data"
   ]
  },
  {
   "cell_type": "code",
   "execution_count": 100,
   "metadata": {},
   "outputs": [
    {
     "name": "stdout",
     "output_type": "stream",
     "text": [
      "274977\n",
      "Duplicated timestamps with identical rows across columns:\n",
      "time_stamp\n",
      "2024-01-01 22:08:56    True\n",
      "2024-01-01 22:08:58    True\n",
      "2024-01-01 22:09:00    True\n",
      "2024-01-01 22:09:06    True\n",
      "2024-01-01 22:09:08    True\n",
      "                       ... \n",
      "2024-12-13 16:19:26    True\n",
      "2024-12-13 16:19:28    True\n",
      "2024-12-13 16:19:30    True\n",
      "2024-12-13 16:19:32    True\n",
      "2024-12-13 16:19:34    True\n",
      "Length: 50543, dtype: bool\n",
      "\n",
      "Number of identical groups: 50543\n",
      "Total number of groups: 50543\n"
     ]
    },
    {
     "name": "stderr",
     "output_type": "stream",
     "text": [
      "C:\\Users\\Moiz\\AppData\\Local\\Temp\\ipykernel_3572\\1766386042.py:6: DeprecationWarning: DataFrameGroupBy.apply operated on the grouping columns. This behavior is deprecated, and in a future version of pandas the grouping columns will be excluded from the operation. Either pass `include_groups=False` to exclude the groupings or explicitly select the grouping columns after groupby to silence this warning.\n",
      "  identical = duplicates_df.groupby('time_stamp').apply(lambda group: group.nunique().max() == 1)\n"
     ]
    }
   ],
   "source": [
    "duplicates = df['time_stamp'][df['time_stamp'].duplicated(keep=False)]\n",
    "\n",
    "duplicates_df = df[df['time_stamp'].isin(duplicates)]\n",
    "print(len(duplicates_df))\n",
    "\n",
    "identical = duplicates_df.groupby('time_stamp').apply(lambda group: group.nunique().max() == 1)\n",
    "\n",
    "identical_groups = identical.sum()\n",
    "total_group = identical.count()\n",
    "\n",
    "print(\"Duplicated timestamps with identical rows across columns:\")\n",
    "print(identical)\n",
    "\n",
    "print(\"\\nNumber of identical groups:\",identical_groups)\n",
    "print(\"Total number of groups:\", total_group)\n"
   ]
  },
  {
   "cell_type": "markdown",
   "metadata": {},
   "source": [
    "Removing duplicated entries"
   ]
  },
  {
   "cell_type": "code",
   "execution_count": 101,
   "metadata": {},
   "outputs": [
    {
     "name": "stdout",
     "output_type": "stream",
     "text": [
      "No. of rows after deleting duplicate entries: 415049\n"
     ]
    }
   ],
   "source": [
    "df = df.drop_duplicates(subset=['time_stamp'])\n",
    "print('No. of rows after deleting duplicate entries:',len(df))"
   ]
  },
  {
   "cell_type": "markdown",
   "metadata": {},
   "source": [
    "Exporting the cleaned data frame"
   ]
  },
  {
   "cell_type": "code",
   "execution_count": 102,
   "metadata": {},
   "outputs": [],
   "source": [
    "df.to_csv('cleaned_data_2024.csv')"
   ]
  }
 ],
 "metadata": {
  "kernelspec": {
   "display_name": "Python 3",
   "language": "python",
   "name": "python3"
  },
  "language_info": {
   "codemirror_mode": {
    "name": "ipython",
    "version": 3
   },
   "file_extension": ".py",
   "mimetype": "text/x-python",
   "name": "python",
   "nbconvert_exporter": "python",
   "pygments_lexer": "ipython3",
   "version": "3.12.6"
  }
 },
 "nbformat": 4,
 "nbformat_minor": 2
}
